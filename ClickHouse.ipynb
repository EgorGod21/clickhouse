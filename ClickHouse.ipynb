{
 "cells": [
  {
   "cell_type": "markdown",
   "metadata": {},
   "source": [
    "## Годзун Егор\n",
    "### ДЗ №1"
   ]
  },
  {
   "cell_type": "markdown",
   "metadata": {},
   "source": [
    "#### Устанавливаем нужные библиотеки"
   ]
  },
  {
   "cell_type": "code",
   "execution_count": 1,
   "metadata": {},
   "outputs": [
    {
     "name": "stdout",
     "output_type": "stream",
     "text": [
      "Requirement already satisfied: tabulate in c:\\users\\egodzun\\downloads\\sales\\.venv\\lib\\site-packages (0.9.0)\n"
     ]
    }
   ],
   "source": [
    "!pip install clickhouse-connect -q\n",
    "!pip install tabulate"
   ]
  },
  {
   "cell_type": "markdown",
   "metadata": {},
   "source": [
    "#### Загрузка данных и миграция"
   ]
  },
  {
   "cell_type": "code",
   "execution_count": 39,
   "metadata": {},
   "outputs": [],
   "source": [
    "import clickhouse_connect\n",
    "from tabulate import tabulate\n",
    "\n",
    "client_1 = clickhouse_connect.get_client(\n",
    "    host='localhost',\n",
    "    port=8123,\n",
    "    username='default',\n",
    "    password='12345',\n",
    "    database='imdb'\n",
    ")\n",
    "\n",
    "client_2 = clickhouse_connect.get_client(\n",
    "    host='localhost',\n",
    "    port=8124,\n",
    "    username='default',\n",
    "    password='12345',\n",
    "    database='imdb'\n",
    ")\n",
    "\n",
    "CREATE_TABLES_SQL_FILE = 'create_tables.sql'\n",
    "INSERT_IN_TABLES_SQL_FILE = 'insert_in_tables.sql'\n",
    "MIGRATION_TABLES_SQL_FILE = 'migration.sql'\n",
    "LIMIT = 10"
   ]
  },
  {
   "cell_type": "code",
   "execution_count": null,
   "metadata": {},
   "outputs": [],
   "source": [
    "def execute_sql_file(client, file_path):\n",
    "    with open(file_path, 'r') as file:\n",
    "        sql_queries = file.read().split(';')\n",
    "\n",
    "    for query in sql_queries:\n",
    "        query = query.strip()\n",
    "        if query:\n",
    "            try:\n",
    "                client.command(query)\n",
    "                print(f\"Completed: {query.split('\\n')[0]}\")\n",
    "            except Exception as e:\n",
    "                print(f\"Error: {e}\")"
   ]
  },
  {
   "cell_type": "code",
   "execution_count": null,
   "metadata": {},
   "outputs": [],
   "source": [
    "def execute_query(client, query):\n",
    "    try:\n",
    "        result = client.query(query)\n",
    "\n",
    "        column_names = result.column_names\n",
    "        data = result.result_rows[:LIMIT]\n",
    "\n",
    "        elapsed_s = int(result.summary.get('elapsed_ns', 0)) / 1_000_000_000\n",
    "        read_rows = int(result.summary.get('read_rows', 0))\n",
    "        result_rows = int(result.summary.get('result_rows', 0))\n",
    "\n",
    "        print(tabulate(data, headers=column_names, tablefmt='grid'))\n",
    "        print(f\"Время выполнения: {elapsed_s:.3f} сек\")\n",
    "        print(f\"Обработано строк: {read_rows:_}\")\n",
    "        print(f\"Возвращено строк: {result_rows:_}\")\n",
    "\n",
    "    except Exception as e:\n",
    "        print(f\"Ошибка при выполнении запроса: {str(e)}\")"
   ]
  },
  {
   "cell_type": "markdown",
   "metadata": {},
   "source": [
    "##### Создаем таблицы "
   ]
  },
  {
   "cell_type": "code",
   "execution_count": 4,
   "metadata": {},
   "outputs": [
    {
     "name": "stdout",
     "output_type": "stream",
     "text": [
      "Completed: CREATE DATABASE IF NOT EXISTS imdb\n",
      "Completed: DROP TABLE IF EXISTS imdb.name_basics\n",
      "Completed: DROP TABLE IF EXISTS imdb.title_basics\n",
      "Completed: DROP TABLE IF EXISTS imdb.title_akas\n",
      "Completed: DROP TABLE IF EXISTS imdb.title_crew\n",
      "Completed: DROP TABLE IF EXISTS imdb.title_episode\n",
      "Completed: DROP TABLE IF EXISTS imdb.title_principals\n",
      "Completed: DROP TABLE IF EXISTS imdb.title_ratings\n",
      "Completed: CREATE TABLE IF NOT EXISTS imdb.name_basics\n",
      "Completed: CREATE TABLE IF NOT EXISTS imdb.title_basics\n",
      "Completed: CREATE TABLE IF NOT EXISTS imdb.title_akas\n",
      "Completed: CREATE TABLE IF NOT EXISTS imdb.title_crew\n",
      "Completed: CREATE TABLE IF NOT EXISTS imdb.title_episode\n",
      "Completed: CREATE TABLE IF NOT EXISTS imdb.title_principals\n",
      "Completed: CREATE TABLE IF NOT EXISTS imdb.title_ratings\n"
     ]
    }
   ],
   "source": [
    "execute_sql_file(client_1, CREATE_TABLES_SQL_FILE)"
   ]
  },
  {
   "cell_type": "markdown",
   "metadata": {},
   "source": [
    "##### Наполняем таблицы "
   ]
  },
  {
   "cell_type": "code",
   "execution_count": null,
   "metadata": {},
   "outputs": [
    {
     "name": "stdout",
     "output_type": "stream",
     "text": [
      "Completed: INSERT INTO imdb.name_basics\n",
      "Completed: INSERT INTO imdb.title_basics SELECT\n",
      "Completed: INSERT INTO imdb.title_akas SELECT\n",
      "Completed: INSERT INTO imdb.title_crew\n",
      "Completed: INSERT INTO imdb.title_episode\n",
      "Completed: INSERT INTO imdb.title_principals\n",
      "Completed: INSERT INTO imdb.title_ratings\n"
     ]
    }
   ],
   "source": [
    "execute_sql_file(client_1, INSERT_IN_TABLES_SQL_FILE)"
   ]
  },
  {
   "cell_type": "markdown",
   "metadata": {},
   "source": [
    "##### Смотрим таблицы"
   ]
  },
  {
   "cell_type": "code",
   "execution_count": 6,
   "metadata": {},
   "outputs": [
    {
     "name": "stdout",
     "output_type": "stream",
     "text": [
      "name_basics\n",
      "title_akas\n",
      "title_basics\n",
      "title_crew\n",
      "title_episode\n",
      "title_principals\n",
      "title_ratings\n"
     ]
    }
   ],
   "source": [
    "result = client_1.query('SHOW TABLES')\n",
    "for table in result.result_rows:\n",
    "    print(table[0])"
   ]
  },
  {
   "cell_type": "code",
   "execution_count": 7,
   "metadata": {},
   "outputs": [
    {
     "name": "stdout",
     "output_type": "stream",
     "text": [
      "+-----------+----------------+----------------+-----------------+\n",
      "| tconst    | parentTconst   |   seasonNumber |   episodeNumber |\n",
      "+===========+================+================+=================+\n",
      "| tt0031458 | tt32857063     |                |                 |\n",
      "+-----------+----------------+----------------+-----------------+\n",
      "| tt0041951 | tt0041038      |              1 |               9 |\n",
      "+-----------+----------------+----------------+-----------------+\n",
      "| tt0042816 | tt0989125      |              1 |              17 |\n",
      "+-----------+----------------+----------------+-----------------+\n",
      "| tt0042889 | tt0989125      |                |                 |\n",
      "+-----------+----------------+----------------+-----------------+\n",
      "| tt0043426 | tt0040051      |              3 |              42 |\n",
      "+-----------+----------------+----------------+-----------------+\n"
     ]
    }
   ],
   "source": [
    "result = client_1.query('SELECT * FROM imdb.title_episode LIMIT 5')\n",
    "column_names = [col_name for col_name in result.column_names]\n",
    "data = result.result_rows\n",
    "\n",
    "print(tabulate(data, headers=column_names, tablefmt=\"grid\"))"
   ]
  },
  {
   "cell_type": "markdown",
   "metadata": {},
   "source": [
    "##### Создаем таблицы в другом ClickHouse"
   ]
  },
  {
   "cell_type": "code",
   "execution_count": null,
   "metadata": {},
   "outputs": [
    {
     "name": "stdout",
     "output_type": "stream",
     "text": [
      "Completed: CREATE DATABASE IF NOT EXISTS imdb\n",
      "Completed: DROP TABLE IF EXISTS imdb.name_basics\n",
      "Completed: DROP TABLE IF EXISTS imdb.title_basics\n",
      "Completed: DROP TABLE IF EXISTS imdb.title_akas\n",
      "Completed: DROP TABLE IF EXISTS imdb.title_crew\n",
      "Completed: DROP TABLE IF EXISTS imdb.title_episode\n",
      "Completed: DROP TABLE IF EXISTS imdb.title_principals\n",
      "Completed: DROP TABLE IF EXISTS imdb.title_ratings\n",
      "Completed: CREATE TABLE IF NOT EXISTS imdb.name_basics\n",
      "Completed: CREATE TABLE IF NOT EXISTS imdb.title_basics\n",
      "Completed: CREATE TABLE IF NOT EXISTS imdb.title_akas\n",
      "Completed: CREATE TABLE IF NOT EXISTS imdb.title_crew\n",
      "Completed: CREATE TABLE IF NOT EXISTS imdb.title_episode\n",
      "Completed: CREATE TABLE IF NOT EXISTS imdb.title_principals\n",
      "Completed: CREATE TABLE IF NOT EXISTS imdb.title_ratings\n"
     ]
    }
   ],
   "source": [
    "execute_sql_file(client_2, CREATE_TABLES_SQL_FILE)"
   ]
  },
  {
   "cell_type": "markdown",
   "metadata": {},
   "source": [
    "##### Переносим данные в другой ClickHouse"
   ]
  },
  {
   "cell_type": "code",
   "execution_count": null,
   "metadata": {},
   "outputs": [
    {
     "name": "stdout",
     "output_type": "stream",
     "text": [
      "Completed: INSERT INTO imdb.name_basics\n",
      "Completed: INSERT INTO imdb.title_basics\n",
      "Completed: INSERT INTO imdb.title_akas\n",
      "Completed: INSERT INTO imdb.title_crew\n",
      "Completed: INSERT INTO imdb.title_episode\n",
      "Completed: INSERT INTO imdb.title_principals\n",
      "Completed: INSERT INTO imdb.title_ratings\n"
     ]
    }
   ],
   "source": [
    "execute_sql_file(client_2, MIGRATION_TABLES_SQL_FILE)"
   ]
  },
  {
   "cell_type": "markdown",
   "metadata": {},
   "source": [
    "##### Смотрим таблицы"
   ]
  },
  {
   "cell_type": "code",
   "execution_count": 182,
   "metadata": {},
   "outputs": [
    {
     "name": "stdout",
     "output_type": "stream",
     "text": [
      "name_basics\n",
      "title_akas\n",
      "title_basics\n",
      "title_crew\n",
      "title_episode\n",
      "title_principals\n",
      "title_ratings\n"
     ]
    }
   ],
   "source": [
    "result = client_2.query('SHOW TABLES')\n",
    "for table in result.result_rows:\n",
    "    print(table[0])"
   ]
  },
  {
   "cell_type": "code",
   "execution_count": 10,
   "metadata": {},
   "outputs": [
    {
     "name": "stdout",
     "output_type": "stream",
     "text": [
      "+-----------+----------------+----------------+-----------------+\n",
      "| tconst    | parentTconst   |   seasonNumber |   episodeNumber |\n",
      "+===========+================+================+=================+\n",
      "| tt0031458 | tt32857063     |                |                 |\n",
      "+-----------+----------------+----------------+-----------------+\n",
      "| tt0041951 | tt0041038      |              1 |               9 |\n",
      "+-----------+----------------+----------------+-----------------+\n",
      "| tt0042816 | tt0989125      |              1 |              17 |\n",
      "+-----------+----------------+----------------+-----------------+\n",
      "| tt0042889 | tt0989125      |                |                 |\n",
      "+-----------+----------------+----------------+-----------------+\n",
      "| tt0043426 | tt0040051      |              3 |              42 |\n",
      "+-----------+----------------+----------------+-----------------+\n"
     ]
    }
   ],
   "source": [
    "result = client_2.query('SELECT * FROM imdb.title_episode LIMIT 5')\n",
    "column_names = [col_name for col_name in result.column_names]\n",
    "data = result.result_rows\n",
    "\n",
    "print(tabulate(data, headers=column_names, tablefmt=\"grid\"))"
   ]
  },
  {
   "cell_type": "markdown",
   "metadata": {},
   "source": [
    "видим, что данные успешно перенесены"
   ]
  },
  {
   "cell_type": "markdown",
   "metadata": {},
   "source": [
    "##### Выполняем запросы с замером времени"
   ]
  },
  {
   "cell_type": "markdown",
   "metadata": {},
   "source": [
    "PREWHERE"
   ]
  },
  {
   "cell_type": "code",
   "execution_count": null,
   "metadata": {},
   "outputs": [
    {
     "name": "stdout",
     "output_type": "stream",
     "text": [
      "+------------+----------------------------------------------------------+-------------+-------------+\n",
      "| tconst     | primaryTitle                                             |   startYear | titleType   |\n",
      "+============+==========================================================+=============+=============+\n",
      "| tt0762118  | Moe                                                      |        2023 | movie       |\n",
      "+------------+----------------------------------------------------------+-------------+-------------+\n",
      "| tt0780471  | American Surfrider                                       |        2024 | movie       |\n",
      "+------------+----------------------------------------------------------+-------------+-------------+\n",
      "| tt0781524  | Vendetta                                                 |        2022 | movie       |\n",
      "+------------+----------------------------------------------------------+-------------+-------------+\n",
      "| tt0783848  | L'homme au bâton, une légende créole                     |        2024 | movie       |\n",
      "+------------+----------------------------------------------------------+-------------+-------------+\n",
      "| tt0870154  | Jungle Cruise                                            |        2021 | movie       |\n",
      "+------------+----------------------------------------------------------+-------------+-------------+\n",
      "| tt0875612  | Rain Falls from Earth: Surviving Cambodia's Darkest Hour |        2024 | movie       |\n",
      "+------------+----------------------------------------------------------+-------------+-------------+\n",
      "| tt10782740 | The Spider-Man 2                                         |        2021 | movie       |\n",
      "+------------+----------------------------------------------------------+-------------+-------------+\n",
      "| tt10782784 | Toy Story 2: Live Action                                 |        2025 | movie       |\n",
      "+------------+----------------------------------------------------------+-------------+-------------+\n",
      "| tt10782898 | Target: St. Louis Vol. 1                                 |        2021 | movie       |\n",
      "+------------+----------------------------------------------------------+-------------+-------------+\n",
      "| tt10782918 | Bloodspawn                                               |        2024 | movie       |\n",
      "+------------+----------------------------------------------------------+-------------+-------------+\n",
      "Время выполнения: 0.454 сек\n",
      "Обработано строк: 11_542_593\n",
      "Возвращено строк: 86_230\n"
     ]
    }
   ],
   "source": [
    "execute_query(\n",
    "    client=client_2,\n",
    "    query=\"\"\"\n",
    "            SELECT tconst, primaryTitle, startYear, titleType\n",
    "            FROM imdb.title_basics\n",
    "            PREWHERE startYear > 2020 AND titleType = 'movie'\n",
    "          \"\"\"\n",
    ")\n"
   ]
  },
  {
   "cell_type": "markdown",
   "metadata": {},
   "source": [
    "LEFT JOIN"
   ]
  },
  {
   "cell_type": "code",
   "execution_count": null,
   "metadata": {},
   "outputs": [
    {
     "name": "stdout",
     "output_type": "stream",
     "text": [
      "+--------------------------------------------------+-----------------+------------+\n",
      "| primaryTitle                                     |   averageRating |   numVotes |\n",
      "+==================================================+=================+============+\n",
      "| The Suspect                                      |            10   |       1011 |\n",
      "+--------------------------------------------------+-----------------+------------+\n",
      "| Pratyartha                                       |             9.6 |       1581 |\n",
      "+--------------------------------------------------+-----------------+------------+\n",
      "| Strawberry Melancholy                            |             9.6 |       4531 |\n",
      "+--------------------------------------------------+-----------------+------------+\n",
      "| Interval                                         |             9.5 |       2039 |\n",
      "+--------------------------------------------------+-----------------+------------+\n",
      "| Jithender Reddy                                  |             9.5 |       2352 |\n",
      "+--------------------------------------------------+-----------------+------------+\n",
      "| Nidurinchu jahapana                              |             9.5 |       2054 |\n",
      "+--------------------------------------------------+-----------------+------------+\n",
      "| Anamadheya Ashok Kumar                           |             9.5 |       1120 |\n",
      "+--------------------------------------------------+-----------------+------------+\n",
      "| Golden Opulence: 500 Years of Luxury in Anatolia |             9.5 |       1298 |\n",
      "+--------------------------------------------------+-----------------+------------+\n",
      "| Guard: Revenge for Love                          |             9.4 |       2047 |\n",
      "+--------------------------------------------------+-----------------+------------+\n",
      "| Jibon Theke Neya                                 |             9.3 |       2301 |\n",
      "+--------------------------------------------------+-----------------+------------+\n",
      "Время выполнения: 0.339 сек\n",
      "Обработано строк: 13_091_640\n",
      "Возвращено строк: 45_239\n"
     ]
    }
   ],
   "source": [
    "execute_query(\n",
    "    client=client_2,\n",
    "    query=\"\"\"\n",
    "            SELECT\n",
    "                b.primaryTitle,\n",
    "                r.averageRating,\n",
    "                r.numVotes\n",
    "            FROM imdb.title_basics b\n",
    "            LEFT JOIN imdb.title_ratings r ON b.tconst = r.tconst\n",
    "            WHERE b.titleType = 'movie' AND r.numVotes > 1000\n",
    "            ORDER BY r.averageRating DESC\n",
    "          \"\"\"\n",
    ")"
   ]
  },
  {
   "cell_type": "markdown",
   "metadata": {},
   "source": [
    "FULL OUTER JOIN"
   ]
  },
  {
   "cell_type": "code",
   "execution_count": null,
   "metadata": {},
   "outputs": [
    {
     "name": "stdout",
     "output_type": "stream",
     "text": [
      "+------------+-------------------------------------------------------------------------------------------+-----------------+\n",
      "| tconst     | primaryTitle                                                                              |   averageRating |\n",
      "+============+===========================================================================================+=================+\n",
      "| tt14175250 | Misfit Bits: Innuendos: When Animals Attack!                                              |               0 |\n",
      "+------------+-------------------------------------------------------------------------------------------+-----------------+\n",
      "| tt14175252 | Goodbye                                                                                   |               0 |\n",
      "+------------+-------------------------------------------------------------------------------------------+-----------------+\n",
      "| tt14175254 | It's time you tied your hot MILF wife up tight                                            |               0 |\n",
      "+------------+-------------------------------------------------------------------------------------------+-----------------+\n",
      "| tt14175256 | B Slade talks Lexi Show sexuality announcement with Hollywood Unlocked Uncesored          |               0 |\n",
      "+------------+-------------------------------------------------------------------------------------------+-----------------+\n",
      "| tt14175258 | MIsfit Bits: \"Totally Gay\" On the Ukulele!                                                |               0 |\n",
      "+------------+-------------------------------------------------------------------------------------------+-----------------+\n",
      "| tt1417526  | Episode #1.9                                                                              |               0 |\n",
      "+------------+-------------------------------------------------------------------------------------------+-----------------+\n",
      "| tt14175260 | Misfit Bits: Doug and His Artistic Vision                                                 |               0 |\n",
      "+------------+-------------------------------------------------------------------------------------------+-----------------+\n",
      "| tt14175262 | Jessie T. Usher talks Landing Role in Independence Day with Hollywood Unlocked Uncensored |               0 |\n",
      "+------------+-------------------------------------------------------------------------------------------+-----------------+\n",
      "| tt14175264 | Nosey neighbor girl talks herself into strict bondage                                     |               0 |\n",
      "+------------+-------------------------------------------------------------------------------------------+-----------------+\n",
      "| tt14175266 | It's time to tie me up                                                                    |               0 |\n",
      "+------------+-------------------------------------------------------------------------------------------+-----------------+\n",
      "Время выполнения: 3.635 сек\n",
      "Обработано строк: 13_091_640\n",
      "Возвращено строк: 11_542_593\n"
     ]
    }
   ],
   "source": [
    "execute_query(\n",
    "    client=client_2,\n",
    "    query=\"\"\"\n",
    "            SELECT\n",
    "                b.tconst,\n",
    "                b.primaryTitle,\n",
    "                r.averageRating\n",
    "            FROM imdb.title_basics b\n",
    "            FULL OUTER JOIN imdb.title_ratings r ON b.tconst = r.tconst\n",
    "          \"\"\"\n",
    ")"
   ]
  },
  {
   "cell_type": "markdown",
   "metadata": {},
   "source": [
    "OVER QUALIFY"
   ]
  },
  {
   "cell_type": "code",
   "execution_count": null,
   "metadata": {},
   "outputs": [
    {
     "name": "stdout",
     "output_type": "stream",
     "text": [
      "+-------------------------------------+-----------------+--------------+---------------+\n",
      "| primaryTitle                        |   averageRating |   global_avg |   rating_rank |\n",
      "+=====================================+=================+==============+===============+\n",
      "| Independent Roads                   |             9.9 |      6.15613 |            67 |\n",
      "+-------------------------------------+-----------------+--------------+---------------+\n",
      "| Chitram Cheppina Katha              |             9.9 |      6.15613 |            67 |\n",
      "+-------------------------------------+-----------------+--------------+---------------+\n",
      "| Apple CUT                           |             9.9 |      6.15613 |            67 |\n",
      "+-------------------------------------+-----------------+--------------+---------------+\n",
      "| The College                         |             9.9 |      6.15613 |            67 |\n",
      "+-------------------------------------+-----------------+--------------+---------------+\n",
      "| Der Bote                            |             9.9 |      6.15613 |            67 |\n",
      "+-------------------------------------+-----------------+--------------+---------------+\n",
      "| Arctic Odyssey                      |             9.9 |      6.15613 |            67 |\n",
      "+-------------------------------------+-----------------+--------------+---------------+\n",
      "| The Edge of Possible                |             9.9 |      6.15613 |            67 |\n",
      "+-------------------------------------+-----------------+--------------+---------------+\n",
      "| The Truth on Trial                  |             9.9 |      6.15613 |            67 |\n",
      "+-------------------------------------+-----------------+--------------+---------------+\n",
      "| The Paternal Bond: Barbary Macaques |             9.9 |      6.15613 |            67 |\n",
      "+-------------------------------------+-----------------+--------------+---------------+\n",
      "| Dhh Lekacha                         |             9.9 |      6.15613 |            67 |\n",
      "+-------------------------------------+-----------------+--------------+---------------+\n",
      "Время выполнения: 0.681 сек\n",
      "Обработано строк: 13_091_640\n",
      "Возвращено строк: 327_248\n"
     ]
    }
   ],
   "source": [
    "execute_query(\n",
    "    client=client_2,\n",
    "    query=\"\"\"\n",
    "            SELECT\n",
    "                b.primaryTitle,\n",
    "                r.averageRating,\n",
    "                AVG(r.averageRating) OVER() AS global_avg,\n",
    "                RANK() OVER(ORDER BY r.averageRating DESC) AS rating_rank\n",
    "            FROM imdb.title_basics b\n",
    "            JOIN imdb.title_ratings r ON b.tconst = r.tconst\n",
    "            WHERE b.titleType = 'movie'\n",
    "            QUALIFY rating_rank >= 10\n",
    "            ORDER BY r.averageRating DESC\n",
    "          \"\"\"\n",
    ")"
   ]
  },
  {
   "cell_type": "markdown",
   "metadata": {},
   "source": [
    "GROUP BY HAVING"
   ]
  },
  {
   "cell_type": "code",
   "execution_count": null,
   "metadata": {},
   "outputs": [
    {
     "name": "stdout",
     "output_type": "stream",
     "text": [
      "+-------------+--------------------+\n",
      "| titleType   |   avg_title_length |\n",
      "+=============+====================+\n",
      "| tvSpecial   |            29.9951 |\n",
      "+-------------+--------------------+\n",
      "| video       |            25.6239 |\n",
      "+-------------+--------------------+\n",
      "| tvMovie     |            22.7493 |\n",
      "+-------------+--------------------+\n",
      "| tvShort     |            22.2975 |\n",
      "+-------------+--------------------+\n",
      "| tvEpisode   |            20.2827 |\n",
      "+-------------+--------------------+\n",
      "| videoGame   |            20.0354 |\n",
      "+-------------+--------------------+\n",
      "Время выполнения: 0.182 сек\n",
      "Обработано строк: 11_542_593\n",
      "Возвращено строк: 6\n"
     ]
    }
   ],
   "source": [
    "execute_query(\n",
    "    client=client_2,\n",
    "    query=\"\"\"\n",
    "            SELECT\n",
    "                titleType,\n",
    "                AVG(LENGTH(primaryTitle)) AS avg_title_length\n",
    "            FROM imdb.title_basics\n",
    "            GROUP BY titleType\n",
    "            HAVING avg_title_length > 20\n",
    "            ORDER BY avg_title_length DESC\n",
    "          \"\"\"\n",
    ")"
   ]
  },
  {
   "cell_type": "markdown",
   "metadata": {},
   "source": [
    "EXCEPT"
   ]
  },
  {
   "cell_type": "code",
   "execution_count": null,
   "metadata": {},
   "outputs": [
    {
     "name": "stdout",
     "output_type": "stream",
     "text": [
      "+------------+\n",
      "| tconst     |\n",
      "+============+\n",
      "| tt0780471  |\n",
      "+------------+\n",
      "| tt0781524  |\n",
      "+------------+\n",
      "| tt0783848  |\n",
      "+------------+\n",
      "| tt0870154  |\n",
      "+------------+\n",
      "| tt0875612  |\n",
      "+------------+\n",
      "| tt0887261  |\n",
      "+------------+\n",
      "| tt19781790 |\n",
      "+------------+\n",
      "| tt19781894 |\n",
      "+------------+\n",
      "| tt19782002 |\n",
      "+------------+\n",
      "| tt19782334 |\n",
      "+------------+\n",
      "Время выполнения: 0.191 сек\n",
      "Обработано строк: 13_091_640\n",
      "Возвращено строк: 78_555\n"
     ]
    }
   ],
   "source": [
    "execute_query(\n",
    "    client=client_2,\n",
    "    query=\"\"\"\n",
    "            SELECT tconst FROM imdb.title_basics\n",
    "            WHERE titleType = 'movie' AND startYear > 2020\n",
    "            EXCEPT\n",
    "            SELECT tconst FROM imdb.title_ratings\n",
    "            WHERE averageRating < 5.0\n",
    "          \"\"\"\n",
    ")"
   ]
  },
  {
   "cell_type": "markdown",
   "metadata": {},
   "source": [
    "CUBE"
   ]
  },
  {
   "cell_type": "code",
   "execution_count": null,
   "metadata": {},
   "outputs": [
    {
     "name": "stdout",
     "output_type": "stream",
     "text": [
      "+-----------+--------------+---------------+---------+\n",
      "|   isAdult | titleType    |   avg_runtime |   count |\n",
      "+===========+==============+===============+=========+\n",
      "|         0 | video        |       41.5691 |  198370 |\n",
      "+-----------+--------------+---------------+---------+\n",
      "|         0 | tvMovie      |       71.7861 |  150230 |\n",
      "+-----------+--------------+---------------+---------+\n",
      "|         0 | movie        |       89.8393 |  700972 |\n",
      "+-----------+--------------+---------------+---------+\n",
      "|         0 | tvMiniSeries |       74.9427 |   60283 |\n",
      "+-----------+--------------+---------------+---------+\n",
      "|         1 | tvShort      |       18.3333 |       3 |\n",
      "+-----------+--------------+---------------+---------+\n",
      "|         0 | short        |       13.0862 | 1048608 |\n",
      "+-----------+--------------+---------------+---------+\n",
      "|         0 | tvSeries     |       81.2703 |  275996 |\n",
      "+-----------+--------------+---------------+---------+\n",
      "|         0 | videoGame    |      104.861  |   41827 |\n",
      "+-----------+--------------+---------------+---------+\n",
      "|         1 | tvSpecial    |       86.1667 |      26 |\n",
      "+-----------+--------------+---------------+---------+\n",
      "|         0 | tvEpisode    |       38.6206 | 8631156 |\n",
      "+-----------+--------------+---------------+---------+\n",
      "Время выполнения: 0.238 сек\n",
      "Обработано строк: 11_542_593\n",
      "Возвращено строк: 35\n"
     ]
    }
   ],
   "source": [
    "execute_query(\n",
    "    client=client_2,\n",
    "    query=\"\"\"\n",
    "            SELECT\n",
    "                isAdult,\n",
    "                titleType,\n",
    "                AVG(runtimeMinutes) AS avg_runtime,\n",
    "                COUNT() AS count\n",
    "            FROM imdb.title_basics\n",
    "            GROUP BY CUBE(isAdult, titleType)\n",
    "          \"\"\"\n",
    ")"
   ]
  },
  {
   "cell_type": "markdown",
   "metadata": {},
   "source": [
    "FORMAT"
   ]
  },
  {
   "cell_type": "markdown",
   "metadata": {},
   "source": [
    "![JSONF](./photo/jsonf.png)"
   ]
  },
  {
   "cell_type": "markdown",
   "metadata": {},
   "source": [
    "![VERTICALF](./photo/verticalf.png)"
   ]
  }
 ],
 "metadata": {
  "kernelspec": {
   "display_name": ".venv",
   "language": "python",
   "name": "python3"
  },
  "language_info": {
   "codemirror_mode": {
    "name": "ipython",
    "version": 3
   },
   "file_extension": ".py",
   "mimetype": "text/x-python",
   "name": "python",
   "nbconvert_exporter": "python",
   "pygments_lexer": "ipython3",
   "version": "3.13.2"
  }
 },
 "nbformat": 4,
 "nbformat_minor": 2
}
