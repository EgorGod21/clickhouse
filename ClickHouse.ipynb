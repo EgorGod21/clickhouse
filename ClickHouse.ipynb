{
 "cells": [
  {
   "cell_type": "markdown",
   "metadata": {},
   "source": [
    "## Годзун Егор\n",
    "### ДЗ №1"
   ]
  },
  {
   "cell_type": "markdown",
   "metadata": {},
   "source": [
    "#### Устанавливаем нужные библиотеки"
   ]
  },
  {
   "cell_type": "code",
   "execution_count": null,
   "metadata": {},
   "outputs": [
    {
     "name": "stdout",
     "output_type": "stream",
     "text": [
      "Defaulting to user installation because normal site-packages is not writeable\n",
      "Collecting tabulate\n",
      "  Using cached tabulate-0.9.0-py3-none-any.whl.metadata (34 kB)\n",
      "Using cached tabulate-0.9.0-py3-none-any.whl (35 kB)\n",
      "Installing collected packages: tabulate\n",
      "Successfully installed tabulate-0.9.0\n"
     ]
    }
   ],
   "source": [
    "!pip install clickhouse-connect -q\n",
    "!pip install pandas"
   ]
  },
  {
   "cell_type": "markdown",
   "metadata": {},
   "source": [
    "#### Загрузка данных и миграция"
   ]
  },
  {
   "cell_type": "code",
   "execution_count": 26,
   "metadata": {},
   "outputs": [],
   "source": [
    "import clickhouse_connect\n",
    "import pandas as pd\n",
    "\n",
    "\n",
    "pd.set_option('display.max_rows', None)\n",
    "pd.set_option('display.max_columns', None)\n",
    "\n",
    "client_1 = clickhouse_connect.get_client(\n",
    "    host='localhost',\n",
    "    port=8123,\n",
    "    username='default',\n",
    "    password='12345',\n",
    "    database='imdb'\n",
    ")\n",
    "\n",
    "client_2 = clickhouse_connect.get_client(\n",
    "    host='localhost',\n",
    "    port=8124,\n",
    "    username='default',\n",
    "    password='12345',\n",
    "    database='imdb'\n",
    ")\n",
    "\n",
    "CREATE_TABLES_SQL_FILE = 'create_tables.sql'\n",
    "INSERT_IN_TABLES_SQL_FILE = 'insert_in_tables.sql'\n",
    "MIGRATION_TABLES_SQL_FILE = 'migration.sql'\n",
    "LIMIT = 10"
   ]
  },
  {
   "cell_type": "code",
   "execution_count": 4,
   "metadata": {},
   "outputs": [],
   "source": [
    "def execute_sql_file(client, file_path):\n",
    "    with open(file_path, 'r') as file:\n",
    "        sql_queries = file.read().split(';')\n",
    "\n",
    "    for query in sql_queries:\n",
    "        query = query.strip()\n",
    "        if query:\n",
    "            try:\n",
    "                client.command(query)\n",
    "                print(f\"Completed: {query.split('\\n')[0]}\")\n",
    "            except Exception as e:\n",
    "                print(f\"Error: {e}\")"
   ]
  },
  {
   "cell_type": "code",
   "execution_count": null,
   "metadata": {},
   "outputs": [],
   "source": [
    "def execute_query(client, query):\n",
    "    try:\n",
    "        result_df = client.query_df(query)\n",
    "        result = client.query(query)\n",
    "\n",
    "        elapsed_s = int(result.summary.get('elapsed_ns', 0)) / 1_000_000_000\n",
    "        read_rows = int(result.summary.get('read_rows', 0))\n",
    "        result_rows = int(result.summary.get('result_rows', 0))\n",
    "\n",
    "        print(f\"Время выполнения: {elapsed_s:.3f} сек\")\n",
    "        print(f\"Обработано строк: {read_rows:_}\")\n",
    "        print(f\"Возвращено строк: {result_rows:_}\")\n",
    "\n",
    "        return result_df.iloc[:LIMIT]\n",
    "\n",
    "    except Exception as e:\n",
    "        print(f\"Ошибка при выполнении запроса: {str(e)}\")"
   ]
  },
  {
   "cell_type": "markdown",
   "metadata": {},
   "source": [
    "##### Создаем таблицы "
   ]
  },
  {
   "cell_type": "code",
   "execution_count": 4,
   "metadata": {},
   "outputs": [
    {
     "name": "stdout",
     "output_type": "stream",
     "text": [
      "Completed: CREATE DATABASE IF NOT EXISTS imdb\n",
      "Completed: DROP TABLE IF EXISTS imdb.name_basics\n",
      "Completed: DROP TABLE IF EXISTS imdb.title_basics\n",
      "Completed: DROP TABLE IF EXISTS imdb.title_akas\n",
      "Completed: DROP TABLE IF EXISTS imdb.title_crew\n",
      "Completed: DROP TABLE IF EXISTS imdb.title_episode\n",
      "Completed: DROP TABLE IF EXISTS imdb.title_principals\n",
      "Completed: DROP TABLE IF EXISTS imdb.title_ratings\n",
      "Completed: CREATE TABLE IF NOT EXISTS imdb.name_basics\n",
      "Completed: CREATE TABLE IF NOT EXISTS imdb.title_basics\n",
      "Completed: CREATE TABLE IF NOT EXISTS imdb.title_akas\n",
      "Completed: CREATE TABLE IF NOT EXISTS imdb.title_crew\n",
      "Completed: CREATE TABLE IF NOT EXISTS imdb.title_episode\n",
      "Completed: CREATE TABLE IF NOT EXISTS imdb.title_principals\n",
      "Completed: CREATE TABLE IF NOT EXISTS imdb.title_ratings\n"
     ]
    }
   ],
   "source": [
    "execute_sql_file(client_1, CREATE_TABLES_SQL_FILE)"
   ]
  },
  {
   "cell_type": "markdown",
   "metadata": {},
   "source": [
    "##### Наполняем таблицы "
   ]
  },
  {
   "cell_type": "code",
   "execution_count": null,
   "metadata": {},
   "outputs": [
    {
     "name": "stdout",
     "output_type": "stream",
     "text": [
      "Completed: INSERT INTO imdb.name_basics\n",
      "Completed: INSERT INTO imdb.title_basics SELECT\n",
      "Completed: INSERT INTO imdb.title_akas SELECT\n",
      "Completed: INSERT INTO imdb.title_crew\n",
      "Completed: INSERT INTO imdb.title_episode\n",
      "Completed: INSERT INTO imdb.title_principals\n",
      "Completed: INSERT INTO imdb.title_ratings\n"
     ]
    }
   ],
   "source": [
    "execute_sql_file(client_1, INSERT_IN_TABLES_SQL_FILE)"
   ]
  },
  {
   "cell_type": "markdown",
   "metadata": {},
   "source": [
    "##### Смотрим таблицы"
   ]
  },
  {
   "cell_type": "code",
   "execution_count": 6,
   "metadata": {},
   "outputs": [
    {
     "name": "stdout",
     "output_type": "stream",
     "text": [
      "name_basics\n",
      "title_akas\n",
      "title_basics\n",
      "title_crew\n",
      "title_episode\n",
      "title_principals\n",
      "title_ratings\n"
     ]
    }
   ],
   "source": [
    "result = client_1.query('SHOW TABLES')\n",
    "for table in result.result_rows:\n",
    "    print(table[0])"
   ]
  },
  {
   "cell_type": "code",
   "execution_count": 53,
   "metadata": {},
   "outputs": [
    {
     "data": {
      "text/html": [
       "<div>\n",
       "<style scoped>\n",
       "    .dataframe tbody tr th:only-of-type {\n",
       "        vertical-align: middle;\n",
       "    }\n",
       "\n",
       "    .dataframe tbody tr th {\n",
       "        vertical-align: top;\n",
       "    }\n",
       "\n",
       "    .dataframe thead th {\n",
       "        text-align: right;\n",
       "    }\n",
       "</style>\n",
       "<table border=\"1\" class=\"dataframe\">\n",
       "  <thead>\n",
       "    <tr style=\"text-align: right;\">\n",
       "      <th></th>\n",
       "      <th>tconst</th>\n",
       "      <th>parentTconst</th>\n",
       "      <th>seasonNumber</th>\n",
       "      <th>episodeNumber</th>\n",
       "    </tr>\n",
       "  </thead>\n",
       "  <tbody>\n",
       "    <tr>\n",
       "      <th>0</th>\n",
       "      <td>tt0031458</td>\n",
       "      <td>tt32857063</td>\n",
       "      <td>&lt;NA&gt;</td>\n",
       "      <td>&lt;NA&gt;</td>\n",
       "    </tr>\n",
       "    <tr>\n",
       "      <th>1</th>\n",
       "      <td>tt0041951</td>\n",
       "      <td>tt0041038</td>\n",
       "      <td>1</td>\n",
       "      <td>9</td>\n",
       "    </tr>\n",
       "    <tr>\n",
       "      <th>2</th>\n",
       "      <td>tt0042816</td>\n",
       "      <td>tt0989125</td>\n",
       "      <td>1</td>\n",
       "      <td>17</td>\n",
       "    </tr>\n",
       "    <tr>\n",
       "      <th>3</th>\n",
       "      <td>tt0042889</td>\n",
       "      <td>tt0989125</td>\n",
       "      <td>&lt;NA&gt;</td>\n",
       "      <td>&lt;NA&gt;</td>\n",
       "    </tr>\n",
       "    <tr>\n",
       "      <th>4</th>\n",
       "      <td>tt0043426</td>\n",
       "      <td>tt0040051</td>\n",
       "      <td>3</td>\n",
       "      <td>42</td>\n",
       "    </tr>\n",
       "  </tbody>\n",
       "</table>\n",
       "</div>"
      ],
      "text/plain": [
       "      tconst parentTconst  seasonNumber  episodeNumber\n",
       "0  tt0031458   tt32857063          <NA>           <NA>\n",
       "1  tt0041951    tt0041038             1              9\n",
       "2  tt0042816    tt0989125             1             17\n",
       "3  tt0042889    tt0989125          <NA>           <NA>\n",
       "4  tt0043426    tt0040051             3             42"
      ]
     },
     "execution_count": 53,
     "metadata": {},
     "output_type": "execute_result"
    }
   ],
   "source": [
    "client_1.query_df('SELECT * FROM imdb.title_episode LIMIT 5')"
   ]
  },
  {
   "cell_type": "code",
   "execution_count": 54,
   "metadata": {},
   "outputs": [
    {
     "data": {
      "text/html": [
       "<div>\n",
       "<style scoped>\n",
       "    .dataframe tbody tr th:only-of-type {\n",
       "        vertical-align: middle;\n",
       "    }\n",
       "\n",
       "    .dataframe tbody tr th {\n",
       "        vertical-align: top;\n",
       "    }\n",
       "\n",
       "    .dataframe thead th {\n",
       "        text-align: right;\n",
       "    }\n",
       "</style>\n",
       "<table border=\"1\" class=\"dataframe\">\n",
       "  <thead>\n",
       "    <tr style=\"text-align: right;\">\n",
       "      <th></th>\n",
       "      <th>tconst</th>\n",
       "      <th>parentTconst</th>\n",
       "      <th>seasonNumber</th>\n",
       "      <th>episodeNumber</th>\n",
       "    </tr>\n",
       "  </thead>\n",
       "  <tbody>\n",
       "    <tr>\n",
       "      <th>0</th>\n",
       "      <td>tt0031458</td>\n",
       "      <td>tt32857063</td>\n",
       "      <td>&lt;NA&gt;</td>\n",
       "      <td>&lt;NA&gt;</td>\n",
       "    </tr>\n",
       "    <tr>\n",
       "      <th>1</th>\n",
       "      <td>tt0041951</td>\n",
       "      <td>tt0041038</td>\n",
       "      <td>1</td>\n",
       "      <td>9</td>\n",
       "    </tr>\n",
       "    <tr>\n",
       "      <th>2</th>\n",
       "      <td>tt0042816</td>\n",
       "      <td>tt0989125</td>\n",
       "      <td>1</td>\n",
       "      <td>17</td>\n",
       "    </tr>\n",
       "    <tr>\n",
       "      <th>3</th>\n",
       "      <td>tt0042889</td>\n",
       "      <td>tt0989125</td>\n",
       "      <td>&lt;NA&gt;</td>\n",
       "      <td>&lt;NA&gt;</td>\n",
       "    </tr>\n",
       "    <tr>\n",
       "      <th>4</th>\n",
       "      <td>tt0043426</td>\n",
       "      <td>tt0040051</td>\n",
       "      <td>3</td>\n",
       "      <td>42</td>\n",
       "    </tr>\n",
       "  </tbody>\n",
       "</table>\n",
       "</div>"
      ],
      "text/plain": [
       "      tconst parentTconst  seasonNumber  episodeNumber\n",
       "0  tt0031458   tt32857063          <NA>           <NA>\n",
       "1  tt0041951    tt0041038             1              9\n",
       "2  tt0042816    tt0989125             1             17\n",
       "3  tt0042889    tt0989125          <NA>           <NA>\n",
       "4  tt0043426    tt0040051             3             42"
      ]
     },
     "execution_count": 54,
     "metadata": {},
     "output_type": "execute_result"
    }
   ],
   "source": [
    "client_1.query_df('SELECT * FROM imdb.title_episode LIMIT 5')"
   ]
  },
  {
   "cell_type": "markdown",
   "metadata": {},
   "source": [
    "##### Создаем таблицы в другом ClickHouse"
   ]
  },
  {
   "cell_type": "code",
   "execution_count": null,
   "metadata": {},
   "outputs": [
    {
     "name": "stdout",
     "output_type": "stream",
     "text": [
      "Completed: CREATE DATABASE IF NOT EXISTS imdb\n",
      "Completed: DROP TABLE IF EXISTS imdb.name_basics\n",
      "Completed: DROP TABLE IF EXISTS imdb.title_basics\n",
      "Completed: DROP TABLE IF EXISTS imdb.title_akas\n",
      "Completed: DROP TABLE IF EXISTS imdb.title_crew\n",
      "Completed: DROP TABLE IF EXISTS imdb.title_episode\n",
      "Completed: DROP TABLE IF EXISTS imdb.title_principals\n",
      "Completed: DROP TABLE IF EXISTS imdb.title_ratings\n",
      "Completed: CREATE TABLE IF NOT EXISTS imdb.name_basics\n",
      "Completed: CREATE TABLE IF NOT EXISTS imdb.title_basics\n",
      "Completed: CREATE TABLE IF NOT EXISTS imdb.title_akas\n",
      "Completed: CREATE TABLE IF NOT EXISTS imdb.title_crew\n",
      "Completed: CREATE TABLE IF NOT EXISTS imdb.title_episode\n",
      "Completed: CREATE TABLE IF NOT EXISTS imdb.title_principals\n",
      "Completed: CREATE TABLE IF NOT EXISTS imdb.title_ratings\n"
     ]
    }
   ],
   "source": [
    "execute_sql_file(client_2, CREATE_TABLES_SQL_FILE)"
   ]
  },
  {
   "cell_type": "markdown",
   "metadata": {},
   "source": [
    "##### Переносим данные в другой ClickHouse"
   ]
  },
  {
   "cell_type": "code",
   "execution_count": null,
   "metadata": {},
   "outputs": [
    {
     "name": "stdout",
     "output_type": "stream",
     "text": [
      "Completed: INSERT INTO imdb.name_basics\n",
      "Completed: INSERT INTO imdb.title_basics\n",
      "Completed: INSERT INTO imdb.title_akas\n",
      "Completed: INSERT INTO imdb.title_crew\n",
      "Completed: INSERT INTO imdb.title_episode\n",
      "Completed: INSERT INTO imdb.title_principals\n",
      "Completed: INSERT INTO imdb.title_ratings\n"
     ]
    }
   ],
   "source": [
    "execute_sql_file(client_2, MIGRATION_TABLES_SQL_FILE)"
   ]
  },
  {
   "cell_type": "markdown",
   "metadata": {},
   "source": [
    "##### Смотрим таблицы"
   ]
  },
  {
   "cell_type": "code",
   "execution_count": 55,
   "metadata": {},
   "outputs": [
    {
     "name": "stdout",
     "output_type": "stream",
     "text": [
      "Время выполнения: 0.029 сек\n",
      "Обработано строк: 7\n",
      "Возвращено строк: 7\n"
     ]
    },
    {
     "data": {
      "text/html": [
       "<div>\n",
       "<style scoped>\n",
       "    .dataframe tbody tr th:only-of-type {\n",
       "        vertical-align: middle;\n",
       "    }\n",
       "\n",
       "    .dataframe tbody tr th {\n",
       "        vertical-align: top;\n",
       "    }\n",
       "\n",
       "    .dataframe thead th {\n",
       "        text-align: right;\n",
       "    }\n",
       "</style>\n",
       "<table border=\"1\" class=\"dataframe\">\n",
       "  <thead>\n",
       "    <tr style=\"text-align: right;\">\n",
       "      <th></th>\n",
       "      <th>name</th>\n",
       "    </tr>\n",
       "  </thead>\n",
       "  <tbody>\n",
       "    <tr>\n",
       "      <th>0</th>\n",
       "      <td>name_basics</td>\n",
       "    </tr>\n",
       "    <tr>\n",
       "      <th>1</th>\n",
       "      <td>title_akas</td>\n",
       "    </tr>\n",
       "    <tr>\n",
       "      <th>2</th>\n",
       "      <td>title_basics</td>\n",
       "    </tr>\n",
       "    <tr>\n",
       "      <th>3</th>\n",
       "      <td>title_crew</td>\n",
       "    </tr>\n",
       "    <tr>\n",
       "      <th>4</th>\n",
       "      <td>title_episode</td>\n",
       "    </tr>\n",
       "    <tr>\n",
       "      <th>5</th>\n",
       "      <td>title_principals</td>\n",
       "    </tr>\n",
       "    <tr>\n",
       "      <th>6</th>\n",
       "      <td>title_ratings</td>\n",
       "    </tr>\n",
       "  </tbody>\n",
       "</table>\n",
       "</div>"
      ],
      "text/plain": [
       "               name\n",
       "0       name_basics\n",
       "1        title_akas\n",
       "2      title_basics\n",
       "3        title_crew\n",
       "4     title_episode\n",
       "5  title_principals\n",
       "6     title_ratings"
      ]
     },
     "execution_count": 55,
     "metadata": {},
     "output_type": "execute_result"
    }
   ],
   "source": [
    "execute_query(client_2, 'SHOW TABLES')"
   ]
  },
  {
   "cell_type": "code",
   "execution_count": 56,
   "metadata": {},
   "outputs": [
    {
     "name": "stdout",
     "output_type": "stream",
     "text": [
      "Время выполнения: 0.065 сек\n",
      "Обработано строк: 10\n",
      "Возвращено строк: 5\n"
     ]
    },
    {
     "data": {
      "text/html": [
       "<div>\n",
       "<style scoped>\n",
       "    .dataframe tbody tr th:only-of-type {\n",
       "        vertical-align: middle;\n",
       "    }\n",
       "\n",
       "    .dataframe tbody tr th {\n",
       "        vertical-align: top;\n",
       "    }\n",
       "\n",
       "    .dataframe thead th {\n",
       "        text-align: right;\n",
       "    }\n",
       "</style>\n",
       "<table border=\"1\" class=\"dataframe\">\n",
       "  <thead>\n",
       "    <tr style=\"text-align: right;\">\n",
       "      <th></th>\n",
       "      <th>tconst</th>\n",
       "      <th>parentTconst</th>\n",
       "      <th>seasonNumber</th>\n",
       "      <th>episodeNumber</th>\n",
       "    </tr>\n",
       "  </thead>\n",
       "  <tbody>\n",
       "    <tr>\n",
       "      <th>0</th>\n",
       "      <td>tt0031458</td>\n",
       "      <td>tt32857063</td>\n",
       "      <td>&lt;NA&gt;</td>\n",
       "      <td>&lt;NA&gt;</td>\n",
       "    </tr>\n",
       "    <tr>\n",
       "      <th>1</th>\n",
       "      <td>tt0041951</td>\n",
       "      <td>tt0041038</td>\n",
       "      <td>1</td>\n",
       "      <td>9</td>\n",
       "    </tr>\n",
       "    <tr>\n",
       "      <th>2</th>\n",
       "      <td>tt0042816</td>\n",
       "      <td>tt0989125</td>\n",
       "      <td>1</td>\n",
       "      <td>17</td>\n",
       "    </tr>\n",
       "    <tr>\n",
       "      <th>3</th>\n",
       "      <td>tt0042889</td>\n",
       "      <td>tt0989125</td>\n",
       "      <td>&lt;NA&gt;</td>\n",
       "      <td>&lt;NA&gt;</td>\n",
       "    </tr>\n",
       "    <tr>\n",
       "      <th>4</th>\n",
       "      <td>tt0043426</td>\n",
       "      <td>tt0040051</td>\n",
       "      <td>3</td>\n",
       "      <td>42</td>\n",
       "    </tr>\n",
       "  </tbody>\n",
       "</table>\n",
       "</div>"
      ],
      "text/plain": [
       "      tconst parentTconst  seasonNumber  episodeNumber\n",
       "0  tt0031458   tt32857063          <NA>           <NA>\n",
       "1  tt0041951    tt0041038             1              9\n",
       "2  tt0042816    tt0989125             1             17\n",
       "3  tt0042889    tt0989125          <NA>           <NA>\n",
       "4  tt0043426    tt0040051             3             42"
      ]
     },
     "execution_count": 56,
     "metadata": {},
     "output_type": "execute_result"
    }
   ],
   "source": [
    "execute_query(client_2, 'SELECT * FROM imdb.title_episode LIMIT 5')"
   ]
  },
  {
   "cell_type": "markdown",
   "metadata": {},
   "source": [
    "видим, что данные успешно перенесены"
   ]
  },
  {
   "cell_type": "markdown",
   "metadata": {},
   "source": [
    "##### Выполняем запросы с замером времени"
   ]
  },
  {
   "cell_type": "markdown",
   "metadata": {},
   "source": [
    "PREWHERE"
   ]
  },
  {
   "cell_type": "code",
   "execution_count": 57,
   "metadata": {},
   "outputs": [
    {
     "name": "stdout",
     "output_type": "stream",
     "text": [
      "Время выполнения: 0.827 сек\n",
      "Обработано строк: 11_542_593\n",
      "Возвращено строк: 86_230\n"
     ]
    },
    {
     "data": {
      "text/html": [
       "<div>\n",
       "<style scoped>\n",
       "    .dataframe tbody tr th:only-of-type {\n",
       "        vertical-align: middle;\n",
       "    }\n",
       "\n",
       "    .dataframe tbody tr th {\n",
       "        vertical-align: top;\n",
       "    }\n",
       "\n",
       "    .dataframe thead th {\n",
       "        text-align: right;\n",
       "    }\n",
       "</style>\n",
       "<table border=\"1\" class=\"dataframe\">\n",
       "  <thead>\n",
       "    <tr style=\"text-align: right;\">\n",
       "      <th></th>\n",
       "      <th>tconst</th>\n",
       "      <th>primaryTitle</th>\n",
       "      <th>startYear</th>\n",
       "      <th>titleType</th>\n",
       "    </tr>\n",
       "  </thead>\n",
       "  <tbody>\n",
       "    <tr>\n",
       "      <th>0</th>\n",
       "      <td>tt0762118</td>\n",
       "      <td>Moe</td>\n",
       "      <td>2023</td>\n",
       "      <td>movie</td>\n",
       "    </tr>\n",
       "    <tr>\n",
       "      <th>1</th>\n",
       "      <td>tt0780471</td>\n",
       "      <td>American Surfrider</td>\n",
       "      <td>2024</td>\n",
       "      <td>movie</td>\n",
       "    </tr>\n",
       "    <tr>\n",
       "      <th>2</th>\n",
       "      <td>tt0781524</td>\n",
       "      <td>Vendetta</td>\n",
       "      <td>2022</td>\n",
       "      <td>movie</td>\n",
       "    </tr>\n",
       "    <tr>\n",
       "      <th>3</th>\n",
       "      <td>tt0783848</td>\n",
       "      <td>L'homme au bâton, une légende créole</td>\n",
       "      <td>2024</td>\n",
       "      <td>movie</td>\n",
       "    </tr>\n",
       "    <tr>\n",
       "      <th>4</th>\n",
       "      <td>tt24227018</td>\n",
       "      <td>Kather Basha Endra Muthuramalingam</td>\n",
       "      <td>2023</td>\n",
       "      <td>movie</td>\n",
       "    </tr>\n",
       "    <tr>\n",
       "      <th>5</th>\n",
       "      <td>tt24227370</td>\n",
       "      <td>Uninformed Consent</td>\n",
       "      <td>2022</td>\n",
       "      <td>movie</td>\n",
       "    </tr>\n",
       "    <tr>\n",
       "      <th>6</th>\n",
       "      <td>tt24227752</td>\n",
       "      <td>Raa Raa Penimiti</td>\n",
       "      <td>2023</td>\n",
       "      <td>movie</td>\n",
       "    </tr>\n",
       "    <tr>\n",
       "      <th>7</th>\n",
       "      <td>tt24227796</td>\n",
       "      <td>Lost in the Lou</td>\n",
       "      <td>2023</td>\n",
       "      <td>movie</td>\n",
       "    </tr>\n",
       "    <tr>\n",
       "      <th>8</th>\n",
       "      <td>tt24227898</td>\n",
       "      <td>11,103</td>\n",
       "      <td>2022</td>\n",
       "      <td>movie</td>\n",
       "    </tr>\n",
       "    <tr>\n",
       "      <th>9</th>\n",
       "      <td>tt24227952</td>\n",
       "      <td>Wicked Season</td>\n",
       "      <td>2024</td>\n",
       "      <td>movie</td>\n",
       "    </tr>\n",
       "  </tbody>\n",
       "</table>\n",
       "</div>"
      ],
      "text/plain": [
       "       tconst                          primaryTitle  startYear titleType\n",
       "0   tt0762118                                   Moe       2023     movie\n",
       "1   tt0780471                    American Surfrider       2024     movie\n",
       "2   tt0781524                              Vendetta       2022     movie\n",
       "3   tt0783848  L'homme au bâton, une légende créole       2024     movie\n",
       "4  tt24227018    Kather Basha Endra Muthuramalingam       2023     movie\n",
       "5  tt24227370                    Uninformed Consent       2022     movie\n",
       "6  tt24227752                      Raa Raa Penimiti       2023     movie\n",
       "7  tt24227796                       Lost in the Lou       2023     movie\n",
       "8  tt24227898                                11,103       2022     movie\n",
       "9  tt24227952                         Wicked Season       2024     movie"
      ]
     },
     "execution_count": 57,
     "metadata": {},
     "output_type": "execute_result"
    }
   ],
   "source": [
    "execute_query(\n",
    "    client=client_2,\n",
    "    query=\"\"\"\n",
    "            SELECT tconst, primaryTitle, startYear, titleType\n",
    "            FROM imdb.title_basics\n",
    "            PREWHERE startYear > 2020 AND titleType = 'movie'\n",
    "          \"\"\"\n",
    ")\n"
   ]
  },
  {
   "cell_type": "markdown",
   "metadata": {},
   "source": [
    "LEFT JOIN"
   ]
  },
  {
   "cell_type": "code",
   "execution_count": 58,
   "metadata": {},
   "outputs": [
    {
     "name": "stdout",
     "output_type": "stream",
     "text": [
      "Время выполнения: 0.901 сек\n",
      "Обработано строк: 13_091_640\n",
      "Возвращено строк: 45_239\n"
     ]
    },
    {
     "data": {
      "text/html": [
       "<div>\n",
       "<style scoped>\n",
       "    .dataframe tbody tr th:only-of-type {\n",
       "        vertical-align: middle;\n",
       "    }\n",
       "\n",
       "    .dataframe tbody tr th {\n",
       "        vertical-align: top;\n",
       "    }\n",
       "\n",
       "    .dataframe thead th {\n",
       "        text-align: right;\n",
       "    }\n",
       "</style>\n",
       "<table border=\"1\" class=\"dataframe\">\n",
       "  <thead>\n",
       "    <tr style=\"text-align: right;\">\n",
       "      <th></th>\n",
       "      <th>primaryTitle</th>\n",
       "      <th>averageRating</th>\n",
       "      <th>numVotes</th>\n",
       "    </tr>\n",
       "  </thead>\n",
       "  <tbody>\n",
       "    <tr>\n",
       "      <th>0</th>\n",
       "      <td>The Suspect</td>\n",
       "      <td>10.0</td>\n",
       "      <td>1011</td>\n",
       "    </tr>\n",
       "    <tr>\n",
       "      <th>1</th>\n",
       "      <td>Pratyartha</td>\n",
       "      <td>9.6</td>\n",
       "      <td>1581</td>\n",
       "    </tr>\n",
       "    <tr>\n",
       "      <th>2</th>\n",
       "      <td>Strawberry Melancholy</td>\n",
       "      <td>9.6</td>\n",
       "      <td>4531</td>\n",
       "    </tr>\n",
       "    <tr>\n",
       "      <th>3</th>\n",
       "      <td>Interval</td>\n",
       "      <td>9.5</td>\n",
       "      <td>2039</td>\n",
       "    </tr>\n",
       "    <tr>\n",
       "      <th>4</th>\n",
       "      <td>Golden Opulence: 500 Years of Luxury in Anatolia</td>\n",
       "      <td>9.5</td>\n",
       "      <td>1298</td>\n",
       "    </tr>\n",
       "    <tr>\n",
       "      <th>5</th>\n",
       "      <td>Jithender Reddy</td>\n",
       "      <td>9.5</td>\n",
       "      <td>2352</td>\n",
       "    </tr>\n",
       "    <tr>\n",
       "      <th>6</th>\n",
       "      <td>Nidurinchu jahapana</td>\n",
       "      <td>9.5</td>\n",
       "      <td>2054</td>\n",
       "    </tr>\n",
       "    <tr>\n",
       "      <th>7</th>\n",
       "      <td>Anamadheya Ashok Kumar</td>\n",
       "      <td>9.5</td>\n",
       "      <td>1120</td>\n",
       "    </tr>\n",
       "    <tr>\n",
       "      <th>8</th>\n",
       "      <td>Guard: Revenge for Love</td>\n",
       "      <td>9.4</td>\n",
       "      <td>2047</td>\n",
       "    </tr>\n",
       "    <tr>\n",
       "      <th>9</th>\n",
       "      <td>Jibon Theke Neya</td>\n",
       "      <td>9.3</td>\n",
       "      <td>2301</td>\n",
       "    </tr>\n",
       "  </tbody>\n",
       "</table>\n",
       "</div>"
      ],
      "text/plain": [
       "                                       primaryTitle  averageRating  numVotes\n",
       "0                                       The Suspect           10.0      1011\n",
       "1                                        Pratyartha            9.6      1581\n",
       "2                             Strawberry Melancholy            9.6      4531\n",
       "3                                          Interval            9.5      2039\n",
       "4  Golden Opulence: 500 Years of Luxury in Anatolia            9.5      1298\n",
       "5                                   Jithender Reddy            9.5      2352\n",
       "6                               Nidurinchu jahapana            9.5      2054\n",
       "7                            Anamadheya Ashok Kumar            9.5      1120\n",
       "8                           Guard: Revenge for Love            9.4      2047\n",
       "9                                  Jibon Theke Neya            9.3      2301"
      ]
     },
     "execution_count": 58,
     "metadata": {},
     "output_type": "execute_result"
    }
   ],
   "source": [
    "execute_query(\n",
    "    client=client_2,\n",
    "    query=\"\"\"\n",
    "            SELECT\n",
    "                b.primaryTitle,\n",
    "                r.averageRating,\n",
    "                r.numVotes\n",
    "            FROM imdb.title_basics b\n",
    "            LEFT JOIN imdb.title_ratings r ON b.tconst = r.tconst\n",
    "            WHERE b.titleType = 'movie' AND r.numVotes > 1000\n",
    "            ORDER BY r.averageRating DESC\n",
    "          \"\"\"\n",
    ")"
   ]
  },
  {
   "cell_type": "markdown",
   "metadata": {},
   "source": [
    "FULL OUTER JOIN"
   ]
  },
  {
   "cell_type": "code",
   "execution_count": 61,
   "metadata": {},
   "outputs": [
    {
     "name": "stdout",
     "output_type": "stream",
     "text": [
      "Время выполнения: 11.161 сек\n",
      "Обработано строк: 13_091_640\n",
      "Возвращено строк: 11_542_593\n"
     ]
    },
    {
     "data": {
      "text/html": [
       "<div>\n",
       "<style scoped>\n",
       "    .dataframe tbody tr th:only-of-type {\n",
       "        vertical-align: middle;\n",
       "    }\n",
       "\n",
       "    .dataframe tbody tr th {\n",
       "        vertical-align: top;\n",
       "    }\n",
       "\n",
       "    .dataframe thead th {\n",
       "        text-align: right;\n",
       "    }\n",
       "</style>\n",
       "<table border=\"1\" class=\"dataframe\">\n",
       "  <thead>\n",
       "    <tr style=\"text-align: right;\">\n",
       "      <th></th>\n",
       "      <th>tconst</th>\n",
       "      <th>primaryTitle</th>\n",
       "      <th>averageRating</th>\n",
       "    </tr>\n",
       "  </thead>\n",
       "  <tbody>\n",
       "    <tr>\n",
       "      <th>0</th>\n",
       "      <td>tt30442451</td>\n",
       "      <td>Bomont</td>\n",
       "      <td>8.1</td>\n",
       "    </tr>\n",
       "    <tr>\n",
       "      <th>1</th>\n",
       "      <td>tt30442452</td>\n",
       "      <td>Episode #1.75</td>\n",
       "      <td>0.0</td>\n",
       "    </tr>\n",
       "    <tr>\n",
       "      <th>2</th>\n",
       "      <td>tt30442453</td>\n",
       "      <td>Episode #1.76</td>\n",
       "      <td>0.0</td>\n",
       "    </tr>\n",
       "    <tr>\n",
       "      <th>3</th>\n",
       "      <td>tt30442457</td>\n",
       "      <td>Episode #1.77</td>\n",
       "      <td>0.0</td>\n",
       "    </tr>\n",
       "    <tr>\n",
       "      <th>4</th>\n",
       "      <td>tt3044246</td>\n",
       "      <td>Welt der Melodie</td>\n",
       "      <td>0.0</td>\n",
       "    </tr>\n",
       "    <tr>\n",
       "      <th>5</th>\n",
       "      <td>tt30442469</td>\n",
       "      <td>Episode #1.78</td>\n",
       "      <td>0.0</td>\n",
       "    </tr>\n",
       "    <tr>\n",
       "      <th>6</th>\n",
       "      <td>tt30442474</td>\n",
       "      <td>Episode #1.79</td>\n",
       "      <td>0.0</td>\n",
       "    </tr>\n",
       "    <tr>\n",
       "      <th>7</th>\n",
       "      <td>tt30442475</td>\n",
       "      <td>Brigade</td>\n",
       "      <td>0.0</td>\n",
       "    </tr>\n",
       "    <tr>\n",
       "      <th>8</th>\n",
       "      <td>tt3044248</td>\n",
       "      <td>SDU: Sex Duties Unit</td>\n",
       "      <td>5.8</td>\n",
       "    </tr>\n",
       "    <tr>\n",
       "      <th>9</th>\n",
       "      <td>tt30442483</td>\n",
       "      <td>Episode #1.80</td>\n",
       "      <td>0.0</td>\n",
       "    </tr>\n",
       "  </tbody>\n",
       "</table>\n",
       "</div>"
      ],
      "text/plain": [
       "       tconst          primaryTitle  averageRating\n",
       "0  tt30442451                Bomont            8.1\n",
       "1  tt30442452         Episode #1.75            0.0\n",
       "2  tt30442453         Episode #1.76            0.0\n",
       "3  tt30442457         Episode #1.77            0.0\n",
       "4   tt3044246      Welt der Melodie            0.0\n",
       "5  tt30442469         Episode #1.78            0.0\n",
       "6  tt30442474         Episode #1.79            0.0\n",
       "7  tt30442475               Brigade            0.0\n",
       "8   tt3044248  SDU: Sex Duties Unit            5.8\n",
       "9  tt30442483         Episode #1.80            0.0"
      ]
     },
     "execution_count": 61,
     "metadata": {},
     "output_type": "execute_result"
    }
   ],
   "source": [
    "execute_query(\n",
    "    client=client_2,\n",
    "    query=\"\"\"\n",
    "            SELECT\n",
    "                b.tconst,\n",
    "                b.primaryTitle,\n",
    "                r.averageRating\n",
    "            FROM imdb.title_basics b\n",
    "            FULL OUTER JOIN imdb.title_ratings r ON b.tconst = r.tconst\n",
    "          \"\"\"\n",
    ")"
   ]
  },
  {
   "cell_type": "markdown",
   "metadata": {},
   "source": [
    "OVER QUALIFY"
   ]
  },
  {
   "cell_type": "code",
   "execution_count": 62,
   "metadata": {},
   "outputs": [
    {
     "name": "stdout",
     "output_type": "stream",
     "text": [
      "Время выполнения: 1.799 сек\n",
      "Обработано строк: 13_091_640\n",
      "Возвращено строк: 327_248\n"
     ]
    },
    {
     "data": {
      "text/html": [
       "<div>\n",
       "<style scoped>\n",
       "    .dataframe tbody tr th:only-of-type {\n",
       "        vertical-align: middle;\n",
       "    }\n",
       "\n",
       "    .dataframe tbody tr th {\n",
       "        vertical-align: top;\n",
       "    }\n",
       "\n",
       "    .dataframe thead th {\n",
       "        text-align: right;\n",
       "    }\n",
       "</style>\n",
       "<table border=\"1\" class=\"dataframe\">\n",
       "  <thead>\n",
       "    <tr style=\"text-align: right;\">\n",
       "      <th></th>\n",
       "      <th>primaryTitle</th>\n",
       "      <th>averageRating</th>\n",
       "      <th>global_avg</th>\n",
       "      <th>rating_rank</th>\n",
       "    </tr>\n",
       "  </thead>\n",
       "  <tbody>\n",
       "    <tr>\n",
       "      <th>0</th>\n",
       "      <td>Robert Shields: My Life as a Robot</td>\n",
       "      <td>9.9</td>\n",
       "      <td>6.156128</td>\n",
       "      <td>67</td>\n",
       "    </tr>\n",
       "    <tr>\n",
       "      <th>1</th>\n",
       "      <td>The Truth on Trial</td>\n",
       "      <td>9.9</td>\n",
       "      <td>6.156128</td>\n",
       "      <td>67</td>\n",
       "    </tr>\n",
       "    <tr>\n",
       "      <th>2</th>\n",
       "      <td>The Paternal Bond: Barbary Macaques</td>\n",
       "      <td>9.9</td>\n",
       "      <td>6.156128</td>\n",
       "      <td>67</td>\n",
       "    </tr>\n",
       "    <tr>\n",
       "      <th>3</th>\n",
       "      <td>Independent Roads</td>\n",
       "      <td>9.9</td>\n",
       "      <td>6.156128</td>\n",
       "      <td>67</td>\n",
       "    </tr>\n",
       "    <tr>\n",
       "      <th>4</th>\n",
       "      <td>Project Pivot</td>\n",
       "      <td>9.9</td>\n",
       "      <td>6.156128</td>\n",
       "      <td>67</td>\n",
       "    </tr>\n",
       "    <tr>\n",
       "      <th>5</th>\n",
       "      <td>Chitram Cheppina Katha</td>\n",
       "      <td>9.9</td>\n",
       "      <td>6.156128</td>\n",
       "      <td>67</td>\n",
       "    </tr>\n",
       "    <tr>\n",
       "      <th>6</th>\n",
       "      <td>The Burmese Python</td>\n",
       "      <td>9.9</td>\n",
       "      <td>6.156128</td>\n",
       "      <td>67</td>\n",
       "    </tr>\n",
       "    <tr>\n",
       "      <th>7</th>\n",
       "      <td>Azotes de Barrio 2</td>\n",
       "      <td>9.9</td>\n",
       "      <td>6.156128</td>\n",
       "      <td>67</td>\n",
       "    </tr>\n",
       "    <tr>\n",
       "      <th>8</th>\n",
       "      <td>Siege at Nune High</td>\n",
       "      <td>9.9</td>\n",
       "      <td>6.156128</td>\n",
       "      <td>67</td>\n",
       "    </tr>\n",
       "    <tr>\n",
       "      <th>9</th>\n",
       "      <td>Fly</td>\n",
       "      <td>9.9</td>\n",
       "      <td>6.156128</td>\n",
       "      <td>67</td>\n",
       "    </tr>\n",
       "  </tbody>\n",
       "</table>\n",
       "</div>"
      ],
      "text/plain": [
       "                          primaryTitle  averageRating  global_avg  rating_rank\n",
       "0   Robert Shields: My Life as a Robot            9.9    6.156128           67\n",
       "1                   The Truth on Trial            9.9    6.156128           67\n",
       "2  The Paternal Bond: Barbary Macaques            9.9    6.156128           67\n",
       "3                    Independent Roads            9.9    6.156128           67\n",
       "4                        Project Pivot            9.9    6.156128           67\n",
       "5               Chitram Cheppina Katha            9.9    6.156128           67\n",
       "6                   The Burmese Python            9.9    6.156128           67\n",
       "7                   Azotes de Barrio 2            9.9    6.156128           67\n",
       "8                   Siege at Nune High            9.9    6.156128           67\n",
       "9                                  Fly            9.9    6.156128           67"
      ]
     },
     "execution_count": 62,
     "metadata": {},
     "output_type": "execute_result"
    }
   ],
   "source": [
    "execute_query(\n",
    "    client=client_2,\n",
    "    query=\"\"\"\n",
    "            SELECT\n",
    "                b.primaryTitle,\n",
    "                r.averageRating,\n",
    "                AVG(r.averageRating) OVER() AS global_avg,\n",
    "                RANK() OVER(ORDER BY r.averageRating DESC) AS rating_rank\n",
    "            FROM imdb.title_basics b\n",
    "            JOIN imdb.title_ratings r ON b.tconst = r.tconst\n",
    "            WHERE b.titleType = 'movie'\n",
    "            QUALIFY rating_rank >= 10\n",
    "            ORDER BY r.averageRating DESC\n",
    "          \"\"\"\n",
    ")"
   ]
  },
  {
   "cell_type": "markdown",
   "metadata": {},
   "source": [
    "GROUP BY HAVING"
   ]
  },
  {
   "cell_type": "code",
   "execution_count": 66,
   "metadata": {},
   "outputs": [
    {
     "name": "stdout",
     "output_type": "stream",
     "text": [
      "Время выполнения: 0.901 сек\n",
      "Обработано строк: 11_542_593\n",
      "Возвращено строк: 6\n"
     ]
    },
    {
     "data": {
      "text/html": [
       "<div>\n",
       "<style scoped>\n",
       "    .dataframe tbody tr th:only-of-type {\n",
       "        vertical-align: middle;\n",
       "    }\n",
       "\n",
       "    .dataframe tbody tr th {\n",
       "        vertical-align: top;\n",
       "    }\n",
       "\n",
       "    .dataframe thead th {\n",
       "        text-align: right;\n",
       "    }\n",
       "</style>\n",
       "<table border=\"1\" class=\"dataframe\">\n",
       "  <thead>\n",
       "    <tr style=\"text-align: right;\">\n",
       "      <th></th>\n",
       "      <th>titleType</th>\n",
       "      <th>avg_title_length</th>\n",
       "    </tr>\n",
       "  </thead>\n",
       "  <tbody>\n",
       "    <tr>\n",
       "      <th>0</th>\n",
       "      <td>tvSpecial</td>\n",
       "      <td>29.995127</td>\n",
       "    </tr>\n",
       "    <tr>\n",
       "      <th>1</th>\n",
       "      <td>video</td>\n",
       "      <td>25.623876</td>\n",
       "    </tr>\n",
       "    <tr>\n",
       "      <th>2</th>\n",
       "      <td>tvMovie</td>\n",
       "      <td>22.749348</td>\n",
       "    </tr>\n",
       "    <tr>\n",
       "      <th>3</th>\n",
       "      <td>tvShort</td>\n",
       "      <td>22.297481</td>\n",
       "    </tr>\n",
       "    <tr>\n",
       "      <th>4</th>\n",
       "      <td>tvEpisode</td>\n",
       "      <td>20.282706</td>\n",
       "    </tr>\n",
       "    <tr>\n",
       "      <th>5</th>\n",
       "      <td>videoGame</td>\n",
       "      <td>20.035408</td>\n",
       "    </tr>\n",
       "  </tbody>\n",
       "</table>\n",
       "</div>"
      ],
      "text/plain": [
       "   titleType  avg_title_length\n",
       "0  tvSpecial         29.995127\n",
       "1      video         25.623876\n",
       "2    tvMovie         22.749348\n",
       "3    tvShort         22.297481\n",
       "4  tvEpisode         20.282706\n",
       "5  videoGame         20.035408"
      ]
     },
     "execution_count": 66,
     "metadata": {},
     "output_type": "execute_result"
    }
   ],
   "source": [
    "execute_query(\n",
    "    client=client_2,\n",
    "    query=\"\"\"\n",
    "            SELECT\n",
    "                titleType,\n",
    "                AVG(LENGTH(primaryTitle)) AS avg_title_length\n",
    "            FROM imdb.title_basics\n",
    "            GROUP BY titleType\n",
    "            HAVING avg_title_length > 20\n",
    "            ORDER BY avg_title_length DESC\n",
    "          \"\"\"\n",
    ")"
   ]
  },
  {
   "cell_type": "markdown",
   "metadata": {},
   "source": [
    "EXCEPT"
   ]
  },
  {
   "cell_type": "code",
   "execution_count": 64,
   "metadata": {},
   "outputs": [
    {
     "name": "stdout",
     "output_type": "stream",
     "text": [
      "Время выполнения: 0.719 сек\n",
      "Обработано строк: 13_091_640\n",
      "Возвращено строк: 78_555\n"
     ]
    },
    {
     "data": {
      "text/html": [
       "<div>\n",
       "<style scoped>\n",
       "    .dataframe tbody tr th:only-of-type {\n",
       "        vertical-align: middle;\n",
       "    }\n",
       "\n",
       "    .dataframe tbody tr th {\n",
       "        vertical-align: top;\n",
       "    }\n",
       "\n",
       "    .dataframe thead th {\n",
       "        text-align: right;\n",
       "    }\n",
       "</style>\n",
       "<table border=\"1\" class=\"dataframe\">\n",
       "  <thead>\n",
       "    <tr style=\"text-align: right;\">\n",
       "      <th></th>\n",
       "      <th>tconst</th>\n",
       "    </tr>\n",
       "  </thead>\n",
       "  <tbody>\n",
       "    <tr>\n",
       "      <th>0</th>\n",
       "      <td>tt0780471</td>\n",
       "    </tr>\n",
       "    <tr>\n",
       "      <th>1</th>\n",
       "      <td>tt0781524</td>\n",
       "    </tr>\n",
       "    <tr>\n",
       "      <th>2</th>\n",
       "      <td>tt0783848</td>\n",
       "    </tr>\n",
       "    <tr>\n",
       "      <th>3</th>\n",
       "      <td>tt13266270</td>\n",
       "    </tr>\n",
       "    <tr>\n",
       "      <th>4</th>\n",
       "      <td>tt13266998</td>\n",
       "    </tr>\n",
       "    <tr>\n",
       "      <th>5</th>\n",
       "      <td>tt13267122</td>\n",
       "    </tr>\n",
       "    <tr>\n",
       "      <th>6</th>\n",
       "      <td>tt13267124</td>\n",
       "    </tr>\n",
       "    <tr>\n",
       "      <th>7</th>\n",
       "      <td>tt13267142</td>\n",
       "    </tr>\n",
       "    <tr>\n",
       "      <th>8</th>\n",
       "      <td>tt13267306</td>\n",
       "    </tr>\n",
       "    <tr>\n",
       "      <th>9</th>\n",
       "      <td>tt13267336</td>\n",
       "    </tr>\n",
       "  </tbody>\n",
       "</table>\n",
       "</div>"
      ],
      "text/plain": [
       "       tconst\n",
       "0   tt0780471\n",
       "1   tt0781524\n",
       "2   tt0783848\n",
       "3  tt13266270\n",
       "4  tt13266998\n",
       "5  tt13267122\n",
       "6  tt13267124\n",
       "7  tt13267142\n",
       "8  tt13267306\n",
       "9  tt13267336"
      ]
     },
     "execution_count": 64,
     "metadata": {},
     "output_type": "execute_result"
    }
   ],
   "source": [
    "execute_query(\n",
    "    client=client_2,\n",
    "    query=\"\"\"\n",
    "            SELECT tconst FROM imdb.title_basics\n",
    "            WHERE titleType = 'movie' AND startYear > 2020\n",
    "            EXCEPT\n",
    "            SELECT tconst FROM imdb.title_ratings\n",
    "            WHERE averageRating < 5.0\n",
    "          \"\"\"\n",
    ")"
   ]
  },
  {
   "cell_type": "markdown",
   "metadata": {},
   "source": [
    "CUBE"
   ]
  },
  {
   "cell_type": "code",
   "execution_count": 65,
   "metadata": {},
   "outputs": [
    {
     "name": "stdout",
     "output_type": "stream",
     "text": [
      "Время выполнения: 0.685 сек\n",
      "Обработано строк: 11_542_593\n",
      "Возвращено строк: 35\n"
     ]
    },
    {
     "data": {
      "text/html": [
       "<div>\n",
       "<style scoped>\n",
       "    .dataframe tbody tr th:only-of-type {\n",
       "        vertical-align: middle;\n",
       "    }\n",
       "\n",
       "    .dataframe tbody tr th {\n",
       "        vertical-align: top;\n",
       "    }\n",
       "\n",
       "    .dataframe thead th {\n",
       "        text-align: right;\n",
       "    }\n",
       "</style>\n",
       "<table border=\"1\" class=\"dataframe\">\n",
       "  <thead>\n",
       "    <tr style=\"text-align: right;\">\n",
       "      <th></th>\n",
       "      <th>isAdult</th>\n",
       "      <th>titleType</th>\n",
       "      <th>avg_runtime</th>\n",
       "      <th>count</th>\n",
       "    </tr>\n",
       "  </thead>\n",
       "  <tbody>\n",
       "    <tr>\n",
       "      <th>0</th>\n",
       "      <td>0</td>\n",
       "      <td>video</td>\n",
       "      <td>41.569105</td>\n",
       "      <td>198370</td>\n",
       "    </tr>\n",
       "    <tr>\n",
       "      <th>1</th>\n",
       "      <td>0</td>\n",
       "      <td>tvMovie</td>\n",
       "      <td>71.786097</td>\n",
       "      <td>150230</td>\n",
       "    </tr>\n",
       "    <tr>\n",
       "      <th>2</th>\n",
       "      <td>0</td>\n",
       "      <td>movie</td>\n",
       "      <td>89.839313</td>\n",
       "      <td>700972</td>\n",
       "    </tr>\n",
       "    <tr>\n",
       "      <th>3</th>\n",
       "      <td>0</td>\n",
       "      <td>tvMiniSeries</td>\n",
       "      <td>74.942724</td>\n",
       "      <td>60283</td>\n",
       "    </tr>\n",
       "    <tr>\n",
       "      <th>4</th>\n",
       "      <td>1</td>\n",
       "      <td>tvShort</td>\n",
       "      <td>18.333333</td>\n",
       "      <td>3</td>\n",
       "    </tr>\n",
       "    <tr>\n",
       "      <th>5</th>\n",
       "      <td>0</td>\n",
       "      <td>short</td>\n",
       "      <td>13.086183</td>\n",
       "      <td>1048608</td>\n",
       "    </tr>\n",
       "    <tr>\n",
       "      <th>6</th>\n",
       "      <td>0</td>\n",
       "      <td>tvSeries</td>\n",
       "      <td>81.270279</td>\n",
       "      <td>275996</td>\n",
       "    </tr>\n",
       "    <tr>\n",
       "      <th>7</th>\n",
       "      <td>0</td>\n",
       "      <td>videoGame</td>\n",
       "      <td>104.861364</td>\n",
       "      <td>41827</td>\n",
       "    </tr>\n",
       "    <tr>\n",
       "      <th>8</th>\n",
       "      <td>1</td>\n",
       "      <td>tvSpecial</td>\n",
       "      <td>86.166667</td>\n",
       "      <td>26</td>\n",
       "    </tr>\n",
       "    <tr>\n",
       "      <th>9</th>\n",
       "      <td>0</td>\n",
       "      <td>tvEpisode</td>\n",
       "      <td>38.620649</td>\n",
       "      <td>8631156</td>\n",
       "    </tr>\n",
       "  </tbody>\n",
       "</table>\n",
       "</div>"
      ],
      "text/plain": [
       "   isAdult     titleType  avg_runtime    count\n",
       "0        0         video    41.569105   198370\n",
       "1        0       tvMovie    71.786097   150230\n",
       "2        0         movie    89.839313   700972\n",
       "3        0  tvMiniSeries    74.942724    60283\n",
       "4        1       tvShort    18.333333        3\n",
       "5        0         short    13.086183  1048608\n",
       "6        0      tvSeries    81.270279   275996\n",
       "7        0     videoGame   104.861364    41827\n",
       "8        1     tvSpecial    86.166667       26\n",
       "9        0     tvEpisode    38.620649  8631156"
      ]
     },
     "execution_count": 65,
     "metadata": {},
     "output_type": "execute_result"
    }
   ],
   "source": [
    "execute_query(\n",
    "    client=client_2,\n",
    "    query=\"\"\"\n",
    "            SELECT\n",
    "                isAdult,\n",
    "                titleType,\n",
    "                AVG(runtimeMinutes) AS avg_runtime,\n",
    "                COUNT() AS count\n",
    "            FROM imdb.title_basics\n",
    "            GROUP BY CUBE(isAdult, titleType)\n",
    "          \"\"\"\n",
    ")"
   ]
  },
  {
   "cell_type": "markdown",
   "metadata": {},
   "source": [
    "FORMAT"
   ]
  },
  {
   "cell_type": "markdown",
   "metadata": {},
   "source": [
    "![JSONF](./photo/jsonf.png)"
   ]
  },
  {
   "cell_type": "markdown",
   "metadata": {},
   "source": [
    "![VERTICALF](./photo/verticalf.png)"
   ]
  }
 ],
 "metadata": {
  "kernelspec": {
   "display_name": "Python 3",
   "language": "python",
   "name": "python3"
  },
  "language_info": {
   "codemirror_mode": {
    "name": "ipython",
    "version": 3
   },
   "file_extension": ".py",
   "mimetype": "text/x-python",
   "name": "python",
   "nbconvert_exporter": "python",
   "pygments_lexer": "ipython3",
   "version": "3.13.2"
  }
 },
 "nbformat": 4,
 "nbformat_minor": 2
}
