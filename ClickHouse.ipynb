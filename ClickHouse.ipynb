{
 "cells": [
  {
   "cell_type": "markdown",
   "metadata": {},
   "source": [
    "## Годзун Егор\n",
    "### ДЗ №1"
   ]
  },
  {
   "cell_type": "markdown",
   "metadata": {},
   "source": [
    "#### Устанавливаем нужные библиотеки"
   ]
  },
  {
   "cell_type": "code",
   "execution_count": 1,
   "metadata": {},
   "outputs": [
    {
     "name": "stdout",
     "output_type": "stream",
     "text": [
      "Requirement already satisfied: pandas in c:\\users\\egodzun\\appdata\\local\\anaconda3\\envs\\lightfm_env\\lib\\site-packages (2.2.3)\n",
      "Requirement already satisfied: numpy>=1.22.4 in c:\\users\\egodzun\\appdata\\local\\anaconda3\\envs\\lightfm_env\\lib\\site-packages (from pandas) (1.26.4)\n",
      "Requirement already satisfied: python-dateutil>=2.8.2 in c:\\users\\egodzun\\appdata\\local\\anaconda3\\envs\\lightfm_env\\lib\\site-packages (from pandas) (2.9.0.post0)\n",
      "Requirement already satisfied: pytz>=2020.1 in c:\\users\\egodzun\\appdata\\local\\anaconda3\\envs\\lightfm_env\\lib\\site-packages (from pandas) (2024.1)\n",
      "Requirement already satisfied: tzdata>=2022.7 in c:\\users\\egodzun\\appdata\\local\\anaconda3\\envs\\lightfm_env\\lib\\site-packages (from pandas) (2025.1)\n",
      "Requirement already satisfied: six>=1.5 in c:\\users\\egodzun\\appdata\\local\\anaconda3\\envs\\lightfm_env\\lib\\site-packages (from python-dateutil>=2.8.2->pandas) (1.17.0)\n"
     ]
    }
   ],
   "source": [
    "!pip install clickhouse-connect -q\n",
    "!pip install pandas"
   ]
  },
  {
   "cell_type": "markdown",
   "metadata": {},
   "source": [
    "#### Загрузка данных и миграция"
   ]
  },
  {
   "cell_type": "code",
   "execution_count": 2,
   "metadata": {},
   "outputs": [],
   "source": [
    "import clickhouse_connect\n",
    "import pandas as pd\n",
    "\n",
    "\n",
    "pd.set_option('display.max_rows', None)\n",
    "pd.set_option('display.max_columns', None)\n",
    "\n",
    "client_1 = clickhouse_connect.get_client(\n",
    "    host='localhost',\n",
    "    port=8123,\n",
    "    username='default',\n",
    "    password='12345',\n",
    "    database='imdb'\n",
    ")\n",
    "\n",
    "client_2 = clickhouse_connect.get_client(\n",
    "    host='localhost',\n",
    "    port=8124,\n",
    "    username='default',\n",
    "    password='12345',\n",
    "    database='imdb'\n",
    ")\n",
    "\n",
    "CREATE_TABLES_SQL_FILE = 'create_tables.sql'\n",
    "INSERT_IN_TABLES_SQL_FILE = 'insert_in_tables.sql'\n",
    "MIGRATION_TABLES_SQL_FILE = 'migration.sql'\n",
    "LIMIT = 10"
   ]
  },
  {
   "cell_type": "code",
   "execution_count": 6,
   "metadata": {},
   "outputs": [],
   "source": [
    "def execute_sql_file(client, file_path):\n",
    "    with open(file_path, 'r') as file:\n",
    "        sql_queries = file.read().split(';')\n",
    "\n",
    "    for query in sql_queries:\n",
    "        query = query.strip()\n",
    "        if query:\n",
    "            try:\n",
    "                client.command(query)\n",
    "                first_line = query.split('\\n')[0]\n",
    "                print(f\"Completed: {first_line}\")\n",
    "            except Exception as e:\n",
    "                print(f\"Error: {e}\")"
   ]
  },
  {
   "cell_type": "code",
   "execution_count": 7,
   "metadata": {},
   "outputs": [],
   "source": [
    "def execute_query(client, query):\n",
    "    try:\n",
    "        result_df = client.query_df(query)\n",
    "        result = client.query(query)\n",
    "\n",
    "        elapsed_s = int(result.summary.get('elapsed_ns', 0)) / 1_000_000_000\n",
    "        read_rows = int(result.summary.get('read_rows', 0))\n",
    "        result_rows = int(result.summary.get('result_rows', 0))\n",
    "\n",
    "        print(f\"Время выполнения: {elapsed_s:.3f} сек\")\n",
    "        print(f\"Обработано строк: {read_rows:_}\")\n",
    "        print(f\"Возвращено строк: {result_rows:_}\")\n",
    "\n",
    "        return result_df.iloc[:LIMIT]\n",
    "\n",
    "    except Exception as e:\n",
    "        print(f\"Ошибка при выполнении запроса: {str(e)}\")"
   ]
  },
  {
   "cell_type": "markdown",
   "metadata": {},
   "source": [
    "##### Создаем таблицы "
   ]
  },
  {
   "cell_type": "code",
   "execution_count": 8,
   "metadata": {},
   "outputs": [
    {
     "name": "stdout",
     "output_type": "stream",
     "text": [
      "Completed: CREATE DATABASE IF NOT EXISTS imdb\n",
      "Completed: DROP TABLE IF EXISTS imdb.name_basics\n",
      "Completed: DROP TABLE IF EXISTS imdb.title_basics\n",
      "Completed: DROP TABLE IF EXISTS imdb.title_akas\n",
      "Completed: DROP TABLE IF EXISTS imdb.title_crew\n",
      "Completed: DROP TABLE IF EXISTS imdb.title_episode\n",
      "Completed: DROP TABLE IF EXISTS imdb.title_principals\n",
      "Completed: DROP TABLE IF EXISTS imdb.title_ratings\n",
      "Completed: CREATE TABLE IF NOT EXISTS imdb.name_basics\n",
      "Completed: CREATE TABLE IF NOT EXISTS imdb.title_basics\n",
      "Completed: CREATE TABLE IF NOT EXISTS imdb.title_akas\n",
      "Completed: CREATE TABLE IF NOT EXISTS imdb.title_crew\n",
      "Completed: CREATE TABLE IF NOT EXISTS imdb.title_episode\n",
      "Completed: CREATE TABLE IF NOT EXISTS imdb.title_principals\n",
      "Completed: CREATE TABLE IF NOT EXISTS imdb.title_ratings\n"
     ]
    }
   ],
   "source": [
    "execute_sql_file(client_1, CREATE_TABLES_SQL_FILE)"
   ]
  },
  {
   "cell_type": "markdown",
   "metadata": {},
   "source": [
    "##### Наполняем таблицы "
   ]
  },
  {
   "cell_type": "code",
   "execution_count": 9,
   "metadata": {},
   "outputs": [
    {
     "name": "stdout",
     "output_type": "stream",
     "text": [
      "Completed: INSERT INTO imdb.name_basics\n",
      "Completed: INSERT INTO imdb.title_basics SELECT\n",
      "Completed: INSERT INTO imdb.title_akas SELECT\n",
      "Completed: INSERT INTO imdb.title_crew\n",
      "Completed: INSERT INTO imdb.title_episode\n",
      "Completed: INSERT INTO imdb.title_principals\n",
      "Completed: INSERT INTO imdb.title_ratings\n"
     ]
    }
   ],
   "source": [
    "execute_sql_file(client_1, INSERT_IN_TABLES_SQL_FILE)"
   ]
  },
  {
   "cell_type": "markdown",
   "metadata": {},
   "source": [
    "##### Смотрим таблицы"
   ]
  },
  {
   "cell_type": "code",
   "execution_count": 10,
   "metadata": {},
   "outputs": [
    {
     "name": "stdout",
     "output_type": "stream",
     "text": [
      "name_basics\n",
      "title_akas\n",
      "title_basics\n",
      "title_crew\n",
      "title_episode\n",
      "title_principals\n",
      "title_ratings\n"
     ]
    }
   ],
   "source": [
    "result = client_1.query('SHOW TABLES')\n",
    "for table in result.result_rows:\n",
    "    print(table[0])"
   ]
  },
  {
   "cell_type": "code",
   "execution_count": 11,
   "metadata": {},
   "outputs": [
    {
     "data": {
      "text/html": [
       "<div>\n",
       "<style scoped>\n",
       "    .dataframe tbody tr th:only-of-type {\n",
       "        vertical-align: middle;\n",
       "    }\n",
       "\n",
       "    .dataframe tbody tr th {\n",
       "        vertical-align: top;\n",
       "    }\n",
       "\n",
       "    .dataframe thead th {\n",
       "        text-align: right;\n",
       "    }\n",
       "</style>\n",
       "<table border=\"1\" class=\"dataframe\">\n",
       "  <thead>\n",
       "    <tr style=\"text-align: right;\">\n",
       "      <th></th>\n",
       "      <th>tconst</th>\n",
       "      <th>parentTconst</th>\n",
       "      <th>seasonNumber</th>\n",
       "      <th>episodeNumber</th>\n",
       "    </tr>\n",
       "  </thead>\n",
       "  <tbody>\n",
       "    <tr>\n",
       "      <th>0</th>\n",
       "      <td>tt0031458</td>\n",
       "      <td>tt32857063</td>\n",
       "      <td>&lt;NA&gt;</td>\n",
       "      <td>&lt;NA&gt;</td>\n",
       "    </tr>\n",
       "    <tr>\n",
       "      <th>1</th>\n",
       "      <td>tt0041951</td>\n",
       "      <td>tt0041038</td>\n",
       "      <td>1</td>\n",
       "      <td>9</td>\n",
       "    </tr>\n",
       "    <tr>\n",
       "      <th>2</th>\n",
       "      <td>tt0042816</td>\n",
       "      <td>tt0989125</td>\n",
       "      <td>1</td>\n",
       "      <td>17</td>\n",
       "    </tr>\n",
       "    <tr>\n",
       "      <th>3</th>\n",
       "      <td>tt0042889</td>\n",
       "      <td>tt0989125</td>\n",
       "      <td>&lt;NA&gt;</td>\n",
       "      <td>&lt;NA&gt;</td>\n",
       "    </tr>\n",
       "    <tr>\n",
       "      <th>4</th>\n",
       "      <td>tt0043426</td>\n",
       "      <td>tt0040051</td>\n",
       "      <td>3</td>\n",
       "      <td>42</td>\n",
       "    </tr>\n",
       "  </tbody>\n",
       "</table>\n",
       "</div>"
      ],
      "text/plain": [
       "      tconst parentTconst  seasonNumber  episodeNumber\n",
       "0  tt0031458   tt32857063          <NA>           <NA>\n",
       "1  tt0041951    tt0041038             1              9\n",
       "2  tt0042816    tt0989125             1             17\n",
       "3  tt0042889    tt0989125          <NA>           <NA>\n",
       "4  tt0043426    tt0040051             3             42"
      ]
     },
     "execution_count": 11,
     "metadata": {},
     "output_type": "execute_result"
    }
   ],
   "source": [
    "client_1.query_df('SELECT * FROM imdb.title_episode LIMIT 5')"
   ]
  },
  {
   "cell_type": "code",
   "execution_count": 12,
   "metadata": {},
   "outputs": [
    {
     "data": {
      "text/html": [
       "<div>\n",
       "<style scoped>\n",
       "    .dataframe tbody tr th:only-of-type {\n",
       "        vertical-align: middle;\n",
       "    }\n",
       "\n",
       "    .dataframe tbody tr th {\n",
       "        vertical-align: top;\n",
       "    }\n",
       "\n",
       "    .dataframe thead th {\n",
       "        text-align: right;\n",
       "    }\n",
       "</style>\n",
       "<table border=\"1\" class=\"dataframe\">\n",
       "  <thead>\n",
       "    <tr style=\"text-align: right;\">\n",
       "      <th></th>\n",
       "      <th>tconst</th>\n",
       "      <th>parentTconst</th>\n",
       "      <th>seasonNumber</th>\n",
       "      <th>episodeNumber</th>\n",
       "    </tr>\n",
       "  </thead>\n",
       "  <tbody>\n",
       "    <tr>\n",
       "      <th>0</th>\n",
       "      <td>tt0031458</td>\n",
       "      <td>tt32857063</td>\n",
       "      <td>&lt;NA&gt;</td>\n",
       "      <td>&lt;NA&gt;</td>\n",
       "    </tr>\n",
       "    <tr>\n",
       "      <th>1</th>\n",
       "      <td>tt0041951</td>\n",
       "      <td>tt0041038</td>\n",
       "      <td>1</td>\n",
       "      <td>9</td>\n",
       "    </tr>\n",
       "    <tr>\n",
       "      <th>2</th>\n",
       "      <td>tt0042816</td>\n",
       "      <td>tt0989125</td>\n",
       "      <td>1</td>\n",
       "      <td>17</td>\n",
       "    </tr>\n",
       "    <tr>\n",
       "      <th>3</th>\n",
       "      <td>tt0042889</td>\n",
       "      <td>tt0989125</td>\n",
       "      <td>&lt;NA&gt;</td>\n",
       "      <td>&lt;NA&gt;</td>\n",
       "    </tr>\n",
       "    <tr>\n",
       "      <th>4</th>\n",
       "      <td>tt0043426</td>\n",
       "      <td>tt0040051</td>\n",
       "      <td>3</td>\n",
       "      <td>42</td>\n",
       "    </tr>\n",
       "  </tbody>\n",
       "</table>\n",
       "</div>"
      ],
      "text/plain": [
       "      tconst parentTconst  seasonNumber  episodeNumber\n",
       "0  tt0031458   tt32857063          <NA>           <NA>\n",
       "1  tt0041951    tt0041038             1              9\n",
       "2  tt0042816    tt0989125             1             17\n",
       "3  tt0042889    tt0989125          <NA>           <NA>\n",
       "4  tt0043426    tt0040051             3             42"
      ]
     },
     "execution_count": 12,
     "metadata": {},
     "output_type": "execute_result"
    }
   ],
   "source": [
    "client_1.query_df('SELECT * FROM imdb.title_episode LIMIT 5')"
   ]
  },
  {
   "cell_type": "markdown",
   "metadata": {},
   "source": [
    "##### Создаем таблицы в другом ClickHouse"
   ]
  },
  {
   "cell_type": "code",
   "execution_count": 13,
   "metadata": {},
   "outputs": [
    {
     "name": "stdout",
     "output_type": "stream",
     "text": [
      "Completed: CREATE DATABASE IF NOT EXISTS imdb\n",
      "Completed: DROP TABLE IF EXISTS imdb.name_basics\n",
      "Completed: DROP TABLE IF EXISTS imdb.title_basics\n",
      "Completed: DROP TABLE IF EXISTS imdb.title_akas\n",
      "Completed: DROP TABLE IF EXISTS imdb.title_crew\n",
      "Completed: DROP TABLE IF EXISTS imdb.title_episode\n",
      "Completed: DROP TABLE IF EXISTS imdb.title_principals\n",
      "Completed: DROP TABLE IF EXISTS imdb.title_ratings\n",
      "Completed: CREATE TABLE IF NOT EXISTS imdb.name_basics\n",
      "Completed: CREATE TABLE IF NOT EXISTS imdb.title_basics\n",
      "Completed: CREATE TABLE IF NOT EXISTS imdb.title_akas\n",
      "Completed: CREATE TABLE IF NOT EXISTS imdb.title_crew\n",
      "Completed: CREATE TABLE IF NOT EXISTS imdb.title_episode\n",
      "Completed: CREATE TABLE IF NOT EXISTS imdb.title_principals\n",
      "Completed: CREATE TABLE IF NOT EXISTS imdb.title_ratings\n"
     ]
    }
   ],
   "source": [
    "execute_sql_file(client_2, CREATE_TABLES_SQL_FILE)"
   ]
  },
  {
   "cell_type": "markdown",
   "metadata": {},
   "source": [
    "##### Переносим данные в другой ClickHouse"
   ]
  },
  {
   "cell_type": "code",
   "execution_count": 14,
   "metadata": {},
   "outputs": [
    {
     "name": "stdout",
     "output_type": "stream",
     "text": [
      "Completed: INSERT INTO imdb.name_basics\n",
      "Completed: INSERT INTO imdb.title_basics\n",
      "Completed: INSERT INTO imdb.title_akas\n",
      "Completed: INSERT INTO imdb.title_crew\n",
      "Completed: INSERT INTO imdb.title_episode\n",
      "Completed: INSERT INTO imdb.title_principals\n",
      "Completed: INSERT INTO imdb.title_ratings\n"
     ]
    }
   ],
   "source": [
    "execute_sql_file(client_2, MIGRATION_TABLES_SQL_FILE)"
   ]
  },
  {
   "cell_type": "markdown",
   "metadata": {},
   "source": [
    "##### Смотрим таблицы"
   ]
  },
  {
   "cell_type": "code",
   "execution_count": 15,
   "metadata": {},
   "outputs": [
    {
     "name": "stdout",
     "output_type": "stream",
     "text": [
      "Время выполнения: 0.004 сек\n",
      "Обработано строк: 7\n",
      "Возвращено строк: 7\n"
     ]
    },
    {
     "data": {
      "text/html": [
       "<div>\n",
       "<style scoped>\n",
       "    .dataframe tbody tr th:only-of-type {\n",
       "        vertical-align: middle;\n",
       "    }\n",
       "\n",
       "    .dataframe tbody tr th {\n",
       "        vertical-align: top;\n",
       "    }\n",
       "\n",
       "    .dataframe thead th {\n",
       "        text-align: right;\n",
       "    }\n",
       "</style>\n",
       "<table border=\"1\" class=\"dataframe\">\n",
       "  <thead>\n",
       "    <tr style=\"text-align: right;\">\n",
       "      <th></th>\n",
       "      <th>name</th>\n",
       "    </tr>\n",
       "  </thead>\n",
       "  <tbody>\n",
       "    <tr>\n",
       "      <th>0</th>\n",
       "      <td>name_basics</td>\n",
       "    </tr>\n",
       "    <tr>\n",
       "      <th>1</th>\n",
       "      <td>title_akas</td>\n",
       "    </tr>\n",
       "    <tr>\n",
       "      <th>2</th>\n",
       "      <td>title_basics</td>\n",
       "    </tr>\n",
       "    <tr>\n",
       "      <th>3</th>\n",
       "      <td>title_crew</td>\n",
       "    </tr>\n",
       "    <tr>\n",
       "      <th>4</th>\n",
       "      <td>title_episode</td>\n",
       "    </tr>\n",
       "    <tr>\n",
       "      <th>5</th>\n",
       "      <td>title_principals</td>\n",
       "    </tr>\n",
       "    <tr>\n",
       "      <th>6</th>\n",
       "      <td>title_ratings</td>\n",
       "    </tr>\n",
       "  </tbody>\n",
       "</table>\n",
       "</div>"
      ],
      "text/plain": [
       "               name\n",
       "0       name_basics\n",
       "1        title_akas\n",
       "2      title_basics\n",
       "3        title_crew\n",
       "4     title_episode\n",
       "5  title_principals\n",
       "6     title_ratings"
      ]
     },
     "execution_count": 15,
     "metadata": {},
     "output_type": "execute_result"
    }
   ],
   "source": [
    "execute_query(client_2, 'SHOW TABLES')"
   ]
  },
  {
   "cell_type": "code",
   "execution_count": 16,
   "metadata": {},
   "outputs": [
    {
     "name": "stdout",
     "output_type": "stream",
     "text": [
      "Время выполнения: 0.051 сек\n",
      "Обработано строк: 10\n",
      "Возвращено строк: 5\n"
     ]
    },
    {
     "data": {
      "text/html": [
       "<div>\n",
       "<style scoped>\n",
       "    .dataframe tbody tr th:only-of-type {\n",
       "        vertical-align: middle;\n",
       "    }\n",
       "\n",
       "    .dataframe tbody tr th {\n",
       "        vertical-align: top;\n",
       "    }\n",
       "\n",
       "    .dataframe thead th {\n",
       "        text-align: right;\n",
       "    }\n",
       "</style>\n",
       "<table border=\"1\" class=\"dataframe\">\n",
       "  <thead>\n",
       "    <tr style=\"text-align: right;\">\n",
       "      <th></th>\n",
       "      <th>tconst</th>\n",
       "      <th>parentTconst</th>\n",
       "      <th>seasonNumber</th>\n",
       "      <th>episodeNumber</th>\n",
       "    </tr>\n",
       "  </thead>\n",
       "  <tbody>\n",
       "    <tr>\n",
       "      <th>0</th>\n",
       "      <td>tt0031458</td>\n",
       "      <td>tt32857063</td>\n",
       "      <td>&lt;NA&gt;</td>\n",
       "      <td>&lt;NA&gt;</td>\n",
       "    </tr>\n",
       "    <tr>\n",
       "      <th>1</th>\n",
       "      <td>tt0041951</td>\n",
       "      <td>tt0041038</td>\n",
       "      <td>1</td>\n",
       "      <td>9</td>\n",
       "    </tr>\n",
       "    <tr>\n",
       "      <th>2</th>\n",
       "      <td>tt0042816</td>\n",
       "      <td>tt0989125</td>\n",
       "      <td>1</td>\n",
       "      <td>17</td>\n",
       "    </tr>\n",
       "    <tr>\n",
       "      <th>3</th>\n",
       "      <td>tt0042889</td>\n",
       "      <td>tt0989125</td>\n",
       "      <td>&lt;NA&gt;</td>\n",
       "      <td>&lt;NA&gt;</td>\n",
       "    </tr>\n",
       "    <tr>\n",
       "      <th>4</th>\n",
       "      <td>tt0043426</td>\n",
       "      <td>tt0040051</td>\n",
       "      <td>3</td>\n",
       "      <td>42</td>\n",
       "    </tr>\n",
       "  </tbody>\n",
       "</table>\n",
       "</div>"
      ],
      "text/plain": [
       "      tconst parentTconst  seasonNumber  episodeNumber\n",
       "0  tt0031458   tt32857063          <NA>           <NA>\n",
       "1  tt0041951    tt0041038             1              9\n",
       "2  tt0042816    tt0989125             1             17\n",
       "3  tt0042889    tt0989125          <NA>           <NA>\n",
       "4  tt0043426    tt0040051             3             42"
      ]
     },
     "execution_count": 16,
     "metadata": {},
     "output_type": "execute_result"
    }
   ],
   "source": [
    "execute_query(client_2, 'SELECT * FROM imdb.title_episode LIMIT 5')"
   ]
  },
  {
   "cell_type": "markdown",
   "metadata": {},
   "source": [
    "видим, что данные успешно перенесены"
   ]
  },
  {
   "cell_type": "markdown",
   "metadata": {},
   "source": [
    "##### Выполняем запросы с замером времени"
   ]
  },
  {
   "cell_type": "markdown",
   "metadata": {},
   "source": [
    "PREWHERE"
   ]
  },
  {
   "cell_type": "markdown",
   "metadata": {},
   "source": [
    "Выведем фильмы, вышедшие после 2020 года"
   ]
  },
  {
   "cell_type": "code",
   "execution_count": 17,
   "metadata": {},
   "outputs": [
    {
     "name": "stdout",
     "output_type": "stream",
     "text": [
      "Время выполнения: 0.255 сек\n",
      "Обработано строк: 11_630_899\n",
      "Возвращено строк: 88_717\n"
     ]
    },
    {
     "data": {
      "text/html": [
       "<div>\n",
       "<style scoped>\n",
       "    .dataframe tbody tr th:only-of-type {\n",
       "        vertical-align: middle;\n",
       "    }\n",
       "\n",
       "    .dataframe tbody tr th {\n",
       "        vertical-align: top;\n",
       "    }\n",
       "\n",
       "    .dataframe thead th {\n",
       "        text-align: right;\n",
       "    }\n",
       "</style>\n",
       "<table border=\"1\" class=\"dataframe\">\n",
       "  <thead>\n",
       "    <tr style=\"text-align: right;\">\n",
       "      <th></th>\n",
       "      <th>tconst</th>\n",
       "      <th>primaryTitle</th>\n",
       "      <th>startYear</th>\n",
       "      <th>titleType</th>\n",
       "    </tr>\n",
       "  </thead>\n",
       "  <tbody>\n",
       "    <tr>\n",
       "      <th>0</th>\n",
       "      <td>tt0762118</td>\n",
       "      <td>Moe</td>\n",
       "      <td>2023</td>\n",
       "      <td>movie</td>\n",
       "    </tr>\n",
       "    <tr>\n",
       "      <th>1</th>\n",
       "      <td>tt25260562</td>\n",
       "      <td>Unacceptable Views</td>\n",
       "      <td>2022</td>\n",
       "      <td>movie</td>\n",
       "    </tr>\n",
       "    <tr>\n",
       "      <th>2</th>\n",
       "      <td>tt25260658</td>\n",
       "      <td>Jackpot Island: Kumanthong Returns</td>\n",
       "      <td>2022</td>\n",
       "      <td>movie</td>\n",
       "    </tr>\n",
       "    <tr>\n",
       "      <th>3</th>\n",
       "      <td>tt25260664</td>\n",
       "      <td>Furies</td>\n",
       "      <td>2022</td>\n",
       "      <td>movie</td>\n",
       "    </tr>\n",
       "    <tr>\n",
       "      <th>4</th>\n",
       "      <td>tt25264464</td>\n",
       "      <td>Informatsia</td>\n",
       "      <td>2022</td>\n",
       "      <td>movie</td>\n",
       "    </tr>\n",
       "    <tr>\n",
       "      <th>5</th>\n",
       "      <td>tt2527138</td>\n",
       "      <td>Finster</td>\n",
       "      <td>2022</td>\n",
       "      <td>movie</td>\n",
       "    </tr>\n",
       "    <tr>\n",
       "      <th>6</th>\n",
       "      <td>tt25272982</td>\n",
       "      <td>Once Upon A Time in Philly Part 2</td>\n",
       "      <td>2023</td>\n",
       "      <td>movie</td>\n",
       "    </tr>\n",
       "    <tr>\n",
       "      <th>7</th>\n",
       "      <td>tt25273052</td>\n",
       "      <td>The Bear's Den</td>\n",
       "      <td>2021</td>\n",
       "      <td>movie</td>\n",
       "    </tr>\n",
       "    <tr>\n",
       "      <th>8</th>\n",
       "      <td>tt25273230</td>\n",
       "      <td>Tales from the Void</td>\n",
       "      <td>2023</td>\n",
       "      <td>movie</td>\n",
       "    </tr>\n",
       "    <tr>\n",
       "      <th>9</th>\n",
       "      <td>tt25273434</td>\n",
       "      <td>Famine</td>\n",
       "      <td>2022</td>\n",
       "      <td>movie</td>\n",
       "    </tr>\n",
       "  </tbody>\n",
       "</table>\n",
       "</div>"
      ],
      "text/plain": [
       "       tconst                        primaryTitle  startYear titleType\n",
       "0   tt0762118                                 Moe       2023     movie\n",
       "1  tt25260562                  Unacceptable Views       2022     movie\n",
       "2  tt25260658  Jackpot Island: Kumanthong Returns       2022     movie\n",
       "3  tt25260664                              Furies       2022     movie\n",
       "4  tt25264464                         Informatsia       2022     movie\n",
       "5   tt2527138                             Finster       2022     movie\n",
       "6  tt25272982   Once Upon A Time in Philly Part 2       2023     movie\n",
       "7  tt25273052                      The Bear's Den       2021     movie\n",
       "8  tt25273230                 Tales from the Void       2023     movie\n",
       "9  tt25273434                              Famine       2022     movie"
      ]
     },
     "execution_count": 17,
     "metadata": {},
     "output_type": "execute_result"
    }
   ],
   "source": [
    "execute_query(\n",
    "    client=client_2,\n",
    "    query=\"\"\"\n",
    "            SELECT tconst, primaryTitle, startYear, titleType\n",
    "            FROM imdb.title_basics\n",
    "            PREWHERE startYear > 2020 AND titleType = 'movie'\n",
    "          \"\"\"\n",
    ")\n"
   ]
  },
  {
   "cell_type": "markdown",
   "metadata": {},
   "source": [
    "LEFT JOIN"
   ]
  },
  {
   "cell_type": "markdown",
   "metadata": {},
   "source": [
    "Выведем фильмы, у которых больше 1000 оценок, сортируем по убыванию рейтинга"
   ]
  },
  {
   "cell_type": "code",
   "execution_count": 19,
   "metadata": {},
   "outputs": [
    {
     "name": "stdout",
     "output_type": "stream",
     "text": [
      "Время выполнения: 0.258 сек\n",
      "Обработано строк: 13_195_059\n",
      "Возвращено строк: 45_554\n"
     ]
    },
    {
     "data": {
      "text/html": [
       "<div>\n",
       "<style scoped>\n",
       "    .dataframe tbody tr th:only-of-type {\n",
       "        vertical-align: middle;\n",
       "    }\n",
       "\n",
       "    .dataframe tbody tr th {\n",
       "        vertical-align: top;\n",
       "    }\n",
       "\n",
       "    .dataframe thead th {\n",
       "        text-align: right;\n",
       "    }\n",
       "</style>\n",
       "<table border=\"1\" class=\"dataframe\">\n",
       "  <thead>\n",
       "    <tr style=\"text-align: right;\">\n",
       "      <th></th>\n",
       "      <th>primaryTitle</th>\n",
       "      <th>averageRating</th>\n",
       "      <th>numVotes</th>\n",
       "    </tr>\n",
       "  </thead>\n",
       "  <tbody>\n",
       "    <tr>\n",
       "      <th>0</th>\n",
       "      <td>Kousalya Tanaya Ragava</td>\n",
       "      <td>10.0</td>\n",
       "      <td>1144</td>\n",
       "    </tr>\n",
       "    <tr>\n",
       "      <th>1</th>\n",
       "      <td>HMM Hug Me More</td>\n",
       "      <td>9.8</td>\n",
       "      <td>1083</td>\n",
       "    </tr>\n",
       "    <tr>\n",
       "      <th>2</th>\n",
       "      <td>Kora</td>\n",
       "      <td>9.7</td>\n",
       "      <td>1022</td>\n",
       "    </tr>\n",
       "    <tr>\n",
       "      <th>3</th>\n",
       "      <td>The Suspect</td>\n",
       "      <td>9.7</td>\n",
       "      <td>1108</td>\n",
       "    </tr>\n",
       "    <tr>\n",
       "      <th>4</th>\n",
       "      <td>Golden Opulence: 500 Years of Luxury in Anatolia</td>\n",
       "      <td>9.5</td>\n",
       "      <td>1616</td>\n",
       "    </tr>\n",
       "    <tr>\n",
       "      <th>5</th>\n",
       "      <td>Strawberry Melancholy</td>\n",
       "      <td>9.5</td>\n",
       "      <td>4760</td>\n",
       "    </tr>\n",
       "    <tr>\n",
       "      <th>6</th>\n",
       "      <td>Jibon Theke Neya</td>\n",
       "      <td>9.3</td>\n",
       "      <td>2305</td>\n",
       "    </tr>\n",
       "    <tr>\n",
       "      <th>7</th>\n",
       "      <td>The Shawshank Redemption</td>\n",
       "      <td>9.3</td>\n",
       "      <td>3038716</td>\n",
       "    </tr>\n",
       "    <tr>\n",
       "      <th>8</th>\n",
       "      <td>Mana Iddari Prema Katha</td>\n",
       "      <td>9.3</td>\n",
       "      <td>1508</td>\n",
       "    </tr>\n",
       "    <tr>\n",
       "      <th>9</th>\n",
       "      <td>The Strangers' Case</td>\n",
       "      <td>9.3</td>\n",
       "      <td>8354</td>\n",
       "    </tr>\n",
       "  </tbody>\n",
       "</table>\n",
       "</div>"
      ],
      "text/plain": [
       "                                       primaryTitle  averageRating  numVotes\n",
       "0                            Kousalya Tanaya Ragava           10.0      1144\n",
       "1                                   HMM Hug Me More            9.8      1083\n",
       "2                                              Kora            9.7      1022\n",
       "3                                       The Suspect            9.7      1108\n",
       "4  Golden Opulence: 500 Years of Luxury in Anatolia            9.5      1616\n",
       "5                             Strawberry Melancholy            9.5      4760\n",
       "6                                  Jibon Theke Neya            9.3      2305\n",
       "7                          The Shawshank Redemption            9.3   3038716\n",
       "8                           Mana Iddari Prema Katha            9.3      1508\n",
       "9                               The Strangers' Case            9.3      8354"
      ]
     },
     "execution_count": 19,
     "metadata": {},
     "output_type": "execute_result"
    }
   ],
   "source": [
    "execute_query(\n",
    "    client=client_2,\n",
    "    query=\"\"\"\n",
    "            SELECT\n",
    "                b.primaryTitle,\n",
    "                r.averageRating,\n",
    "                r.numVotes\n",
    "            FROM imdb.title_basics b\n",
    "            LEFT JOIN imdb.title_ratings r ON b.tconst = r.tconst\n",
    "            WHERE b.titleType = 'movie' AND r.numVotes > 1000\n",
    "            ORDER BY r.averageRating DESC\n",
    "          \"\"\"\n",
    ")"
   ]
  },
  {
   "cell_type": "markdown",
   "metadata": {},
   "source": [
    "FULL OUTER JOIN"
   ]
  },
  {
   "cell_type": "markdown",
   "metadata": {},
   "source": [
    "Выведем фильмы, для которых либо нет рейтинга, но есть название, либо нет названия но есть рейтинг"
   ]
  },
  {
   "cell_type": "code",
   "execution_count": 23,
   "metadata": {},
   "outputs": [
    {
     "name": "stdout",
     "output_type": "stream",
     "text": [
      "Время выполнения: 0.066 сек\n",
      "Обработано строк: 0\n",
      "Возвращено строк: 0\n"
     ]
    },
    {
     "data": {
      "text/html": [
       "<div>\n",
       "<style scoped>\n",
       "    .dataframe tbody tr th:only-of-type {\n",
       "        vertical-align: middle;\n",
       "    }\n",
       "\n",
       "    .dataframe tbody tr th {\n",
       "        vertical-align: top;\n",
       "    }\n",
       "\n",
       "    .dataframe thead th {\n",
       "        text-align: right;\n",
       "    }\n",
       "</style>\n",
       "<table border=\"1\" class=\"dataframe\">\n",
       "  <thead>\n",
       "    <tr style=\"text-align: right;\">\n",
       "      <th></th>\n",
       "    </tr>\n",
       "  </thead>\n",
       "  <tbody>\n",
       "  </tbody>\n",
       "</table>\n",
       "</div>"
      ],
      "text/plain": [
       "Empty DataFrame\n",
       "Columns: []\n",
       "Index: []"
      ]
     },
     "execution_count": 23,
     "metadata": {},
     "output_type": "execute_result"
    }
   ],
   "source": [
    "execute_query(\n",
    "    client=client_2,\n",
    "    query=\"\"\"\n",
    "            SELECT\n",
    "                b.tconst,\n",
    "                b.primaryTitle,\n",
    "                r.averageRating\n",
    "            FROM imdb.title_basics b\n",
    "            FULL OUTER JOIN imdb.title_ratings r ON b.tconst = r.tconst\n",
    "            WHERE r.averageRating IS NULL\n",
    "                OR b.primaryTitle IS NULL\n",
    "          \"\"\"\n",
    ")"
   ]
  },
  {
   "cell_type": "markdown",
   "metadata": {},
   "source": [
    "OVER QUALIFY"
   ]
  },
  {
   "cell_type": "markdown",
   "metadata": {},
   "source": [
    "Выведем фильмы, которые занимают 3-е место по рейтингу в порядке возрастания"
   ]
  },
  {
   "cell_type": "code",
   "execution_count": 39,
   "metadata": {},
   "outputs": [
    {
     "name": "stdout",
     "output_type": "stream",
     "text": [
      "Время выполнения: 0.333 сек\n",
      "Обработано строк: 13_195_059\n",
      "Возвращено строк: 54\n"
     ]
    },
    {
     "data": {
      "text/html": [
       "<div>\n",
       "<style scoped>\n",
       "    .dataframe tbody tr th:only-of-type {\n",
       "        vertical-align: middle;\n",
       "    }\n",
       "\n",
       "    .dataframe tbody tr th {\n",
       "        vertical-align: top;\n",
       "    }\n",
       "\n",
       "    .dataframe thead th {\n",
       "        text-align: right;\n",
       "    }\n",
       "</style>\n",
       "<table border=\"1\" class=\"dataframe\">\n",
       "  <thead>\n",
       "    <tr style=\"text-align: right;\">\n",
       "      <th></th>\n",
       "      <th>primaryTitle</th>\n",
       "      <th>averageRating</th>\n",
       "      <th>rating_rank</th>\n",
       "    </tr>\n",
       "  </thead>\n",
       "  <tbody>\n",
       "    <tr>\n",
       "      <th>0</th>\n",
       "      <td>15/07: Break of Dawn</td>\n",
       "      <td>1.2</td>\n",
       "      <td>3</td>\n",
       "    </tr>\n",
       "    <tr>\n",
       "      <th>1</th>\n",
       "      <td>212: The Power of Love</td>\n",
       "      <td>1.2</td>\n",
       "      <td>3</td>\n",
       "    </tr>\n",
       "    <tr>\n",
       "      <th>2</th>\n",
       "      <td>Aks-e Khosoosi</td>\n",
       "      <td>1.2</td>\n",
       "      <td>3</td>\n",
       "    </tr>\n",
       "    <tr>\n",
       "      <th>3</th>\n",
       "      <td>Always Cinema</td>\n",
       "      <td>1.2</td>\n",
       "      <td>3</td>\n",
       "    </tr>\n",
       "    <tr>\n",
       "      <th>4</th>\n",
       "      <td>Bagyong Bheverlynn</td>\n",
       "      <td>1.2</td>\n",
       "      <td>3</td>\n",
       "    </tr>\n",
       "    <tr>\n",
       "      <th>5</th>\n",
       "      <td>Bi Setare</td>\n",
       "      <td>1.2</td>\n",
       "      <td>3</td>\n",
       "    </tr>\n",
       "    <tr>\n",
       "      <th>6</th>\n",
       "      <td>Bible Town</td>\n",
       "      <td>1.2</td>\n",
       "      <td>3</td>\n",
       "    </tr>\n",
       "    <tr>\n",
       "      <th>7</th>\n",
       "      <td>Cumali Ceber 2</td>\n",
       "      <td>1.2</td>\n",
       "      <td>3</td>\n",
       "    </tr>\n",
       "    <tr>\n",
       "      <th>8</th>\n",
       "      <td>Dance Dance</td>\n",
       "      <td>1.2</td>\n",
       "      <td>3</td>\n",
       "    </tr>\n",
       "    <tr>\n",
       "      <th>9</th>\n",
       "      <td>Daniel the Wizard</td>\n",
       "      <td>1.2</td>\n",
       "      <td>3</td>\n",
       "    </tr>\n",
       "  </tbody>\n",
       "</table>\n",
       "</div>"
      ],
      "text/plain": [
       "             primaryTitle  averageRating  rating_rank\n",
       "0    15/07: Break of Dawn            1.2            3\n",
       "1  212: The Power of Love            1.2            3\n",
       "2          Aks-e Khosoosi            1.2            3\n",
       "3           Always Cinema            1.2            3\n",
       "4      Bagyong Bheverlynn            1.2            3\n",
       "5               Bi Setare            1.2            3\n",
       "6              Bible Town            1.2            3\n",
       "7          Cumali Ceber 2            1.2            3\n",
       "8             Dance Dance            1.2            3\n",
       "9       Daniel the Wizard            1.2            3"
      ]
     },
     "execution_count": 39,
     "metadata": {},
     "output_type": "execute_result"
    }
   ],
   "source": [
    "execute_query(\n",
    "    client=client_2,\n",
    "    query=\"\"\"\n",
    "            SELECT\n",
    "                b.primaryTitle,\n",
    "                r.averageRating,\n",
    "                DENSE_RANK() OVER(ORDER BY r.averageRating ASC) AS rating_rank\n",
    "            FROM imdb.title_basics b\n",
    "            JOIN imdb.title_ratings r ON b.tconst = r.tconst\n",
    "            WHERE b.titleType = 'movie'\n",
    "            QUALIFY rating_rank = 3\n",
    "            ORDER BY b.primaryTitle\n",
    "          \"\"\"\n",
    ")"
   ]
  },
  {
   "cell_type": "markdown",
   "metadata": {},
   "source": [
    "GROUP BY HAVING"
   ]
  },
  {
   "cell_type": "markdown",
   "metadata": {},
   "source": [
    "Выведем среднюю длину названий по типу и оставим только те типы, у которых средняя длина названия больше 20 символов"
   ]
  },
  {
   "cell_type": "code",
   "execution_count": 41,
   "metadata": {},
   "outputs": [
    {
     "name": "stdout",
     "output_type": "stream",
     "text": [
      "Время выполнения: 0.475 сек\n",
      "Обработано строк: 11_630_899\n",
      "Возвращено строк: 6\n"
     ]
    },
    {
     "data": {
      "text/html": [
       "<div>\n",
       "<style scoped>\n",
       "    .dataframe tbody tr th:only-of-type {\n",
       "        vertical-align: middle;\n",
       "    }\n",
       "\n",
       "    .dataframe tbody tr th {\n",
       "        vertical-align: top;\n",
       "    }\n",
       "\n",
       "    .dataframe thead th {\n",
       "        text-align: right;\n",
       "    }\n",
       "</style>\n",
       "<table border=\"1\" class=\"dataframe\">\n",
       "  <thead>\n",
       "    <tr style=\"text-align: right;\">\n",
       "      <th></th>\n",
       "      <th>titleType</th>\n",
       "      <th>avg_title_length</th>\n",
       "    </tr>\n",
       "  </thead>\n",
       "  <tbody>\n",
       "    <tr>\n",
       "      <th>0</th>\n",
       "      <td>tvSpecial</td>\n",
       "      <td>29.970612</td>\n",
       "    </tr>\n",
       "    <tr>\n",
       "      <th>1</th>\n",
       "      <td>video</td>\n",
       "      <td>25.689215</td>\n",
       "    </tr>\n",
       "    <tr>\n",
       "      <th>2</th>\n",
       "      <td>tvMovie</td>\n",
       "      <td>22.761693</td>\n",
       "    </tr>\n",
       "    <tr>\n",
       "      <th>3</th>\n",
       "      <td>tvShort</td>\n",
       "      <td>22.304364</td>\n",
       "    </tr>\n",
       "    <tr>\n",
       "      <th>4</th>\n",
       "      <td>tvEpisode</td>\n",
       "      <td>20.307402</td>\n",
       "    </tr>\n",
       "    <tr>\n",
       "      <th>5</th>\n",
       "      <td>videoGame</td>\n",
       "      <td>20.032048</td>\n",
       "    </tr>\n",
       "  </tbody>\n",
       "</table>\n",
       "</div>"
      ],
      "text/plain": [
       "   titleType  avg_title_length\n",
       "0  tvSpecial         29.970612\n",
       "1      video         25.689215\n",
       "2    tvMovie         22.761693\n",
       "3    tvShort         22.304364\n",
       "4  tvEpisode         20.307402\n",
       "5  videoGame         20.032048"
      ]
     },
     "execution_count": 41,
     "metadata": {},
     "output_type": "execute_result"
    }
   ],
   "source": [
    "execute_query(\n",
    "    client=client_2,\n",
    "    query=\"\"\"\n",
    "            SELECT\n",
    "                titleType,\n",
    "                AVG(LENGTH(primaryTitle)) AS avg_title_length\n",
    "            FROM imdb.title_basics\n",
    "            GROUP BY titleType\n",
    "            HAVING avg_title_length > 20\n",
    "            ORDER BY avg_title_length DESC\n",
    "          \"\"\"\n",
    ")"
   ]
  },
  {
   "cell_type": "markdown",
   "metadata": {},
   "source": [
    "EXCEPT"
   ]
  },
  {
   "cell_type": "markdown",
   "metadata": {},
   "source": [
    "Выведем идентификаторы фильмов после 2020 года, исключая те, у которых рейтинг меньше 5.0"
   ]
  },
  {
   "cell_type": "code",
   "execution_count": 42,
   "metadata": {},
   "outputs": [
    {
     "name": "stdout",
     "output_type": "stream",
     "text": [
      "Время выполнения: 0.162 сек\n",
      "Обработано строк: 13_195_059\n",
      "Возвращено строк: 80_765\n"
     ]
    },
    {
     "data": {
      "text/html": [
       "<div>\n",
       "<style scoped>\n",
       "    .dataframe tbody tr th:only-of-type {\n",
       "        vertical-align: middle;\n",
       "    }\n",
       "\n",
       "    .dataframe tbody tr th {\n",
       "        vertical-align: top;\n",
       "    }\n",
       "\n",
       "    .dataframe thead th {\n",
       "        text-align: right;\n",
       "    }\n",
       "</style>\n",
       "<table border=\"1\" class=\"dataframe\">\n",
       "  <thead>\n",
       "    <tr style=\"text-align: right;\">\n",
       "      <th></th>\n",
       "      <th>tconst</th>\n",
       "    </tr>\n",
       "  </thead>\n",
       "  <tbody>\n",
       "    <tr>\n",
       "      <th>0</th>\n",
       "      <td>tt0780471</td>\n",
       "    </tr>\n",
       "    <tr>\n",
       "      <th>1</th>\n",
       "      <td>tt0781524</td>\n",
       "    </tr>\n",
       "    <tr>\n",
       "      <th>2</th>\n",
       "      <td>tt0783848</td>\n",
       "    </tr>\n",
       "    <tr>\n",
       "      <th>3</th>\n",
       "      <td>tt13250808</td>\n",
       "    </tr>\n",
       "    <tr>\n",
       "      <th>4</th>\n",
       "      <td>tt13253056</td>\n",
       "    </tr>\n",
       "    <tr>\n",
       "      <th>5</th>\n",
       "      <td>tt13254032</td>\n",
       "    </tr>\n",
       "    <tr>\n",
       "      <th>6</th>\n",
       "      <td>tt13254234</td>\n",
       "    </tr>\n",
       "    <tr>\n",
       "      <th>7</th>\n",
       "      <td>tt13254306</td>\n",
       "    </tr>\n",
       "    <tr>\n",
       "      <th>8</th>\n",
       "      <td>tt13254534</td>\n",
       "    </tr>\n",
       "    <tr>\n",
       "      <th>9</th>\n",
       "      <td>tt13254554</td>\n",
       "    </tr>\n",
       "  </tbody>\n",
       "</table>\n",
       "</div>"
      ],
      "text/plain": [
       "       tconst\n",
       "0   tt0780471\n",
       "1   tt0781524\n",
       "2   tt0783848\n",
       "3  tt13250808\n",
       "4  tt13253056\n",
       "5  tt13254032\n",
       "6  tt13254234\n",
       "7  tt13254306\n",
       "8  tt13254534\n",
       "9  tt13254554"
      ]
     },
     "execution_count": 42,
     "metadata": {},
     "output_type": "execute_result"
    }
   ],
   "source": [
    "execute_query(\n",
    "    client=client_2,\n",
    "    query=\"\"\"\n",
    "            SELECT tconst FROM imdb.title_basics\n",
    "            WHERE titleType = 'movie' AND startYear > 2020\n",
    "            EXCEPT\n",
    "            SELECT tconst FROM imdb.title_ratings\n",
    "            WHERE averageRating < 5.0\n",
    "          \"\"\"\n",
    ")"
   ]
  },
  {
   "cell_type": "markdown",
   "metadata": {},
   "source": [
    "CUBE"
   ]
  },
  {
   "cell_type": "markdown",
   "metadata": {},
   "source": [
    "Выведем для взрослого контента среднюю продолжительность и количество записей по всем типам и их комбинациям"
   ]
  },
  {
   "cell_type": "code",
   "execution_count": 69,
   "metadata": {},
   "outputs": [
    {
     "name": "stdout",
     "output_type": "stream",
     "text": [
      "Время выполнения: 0.313 сек\n",
      "Обработано строк: 11_630_899\n",
      "Возвращено строк: 11\n"
     ]
    },
    {
     "data": {
      "text/html": [
       "<div>\n",
       "<style scoped>\n",
       "    .dataframe tbody tr th:only-of-type {\n",
       "        vertical-align: middle;\n",
       "    }\n",
       "\n",
       "    .dataframe tbody tr th {\n",
       "        vertical-align: top;\n",
       "    }\n",
       "\n",
       "    .dataframe thead th {\n",
       "        text-align: right;\n",
       "    }\n",
       "</style>\n",
       "<table border=\"1\" class=\"dataframe\">\n",
       "  <thead>\n",
       "    <tr style=\"text-align: right;\">\n",
       "      <th></th>\n",
       "      <th>isAdult</th>\n",
       "      <th>titleType</th>\n",
       "      <th>avg_runtime</th>\n",
       "      <th>count</th>\n",
       "    </tr>\n",
       "  </thead>\n",
       "  <tbody>\n",
       "    <tr>\n",
       "      <th>0</th>\n",
       "      <td>1</td>\n",
       "      <td></td>\n",
       "      <td>78.570369</td>\n",
       "      <td>376574</td>\n",
       "    </tr>\n",
       "    <tr>\n",
       "      <th>1</th>\n",
       "      <td>1</td>\n",
       "      <td>movie</td>\n",
       "      <td>78.634230</td>\n",
       "      <td>9177</td>\n",
       "    </tr>\n",
       "    <tr>\n",
       "      <th>2</th>\n",
       "      <td>1</td>\n",
       "      <td>short</td>\n",
       "      <td>15.153396</td>\n",
       "      <td>2590</td>\n",
       "    </tr>\n",
       "    <tr>\n",
       "      <th>3</th>\n",
       "      <td>1</td>\n",
       "      <td>tvEpisode</td>\n",
       "      <td>28.420098</td>\n",
       "      <td>250626</td>\n",
       "    </tr>\n",
       "    <tr>\n",
       "      <th>4</th>\n",
       "      <td>1</td>\n",
       "      <td>tvMiniSeries</td>\n",
       "      <td>48.175141</td>\n",
       "      <td>373</td>\n",
       "    </tr>\n",
       "    <tr>\n",
       "      <th>5</th>\n",
       "      <td>1</td>\n",
       "      <td>tvMovie</td>\n",
       "      <td>87.085714</td>\n",
       "      <td>91</td>\n",
       "    </tr>\n",
       "    <tr>\n",
       "      <th>6</th>\n",
       "      <td>1</td>\n",
       "      <td>tvSeries</td>\n",
       "      <td>39.947791</td>\n",
       "      <td>2885</td>\n",
       "    </tr>\n",
       "    <tr>\n",
       "      <th>7</th>\n",
       "      <td>1</td>\n",
       "      <td>tvShort</td>\n",
       "      <td>18.333333</td>\n",
       "      <td>3</td>\n",
       "    </tr>\n",
       "    <tr>\n",
       "      <th>8</th>\n",
       "      <td>1</td>\n",
       "      <td>tvSpecial</td>\n",
       "      <td>86.166667</td>\n",
       "      <td>26</td>\n",
       "    </tr>\n",
       "    <tr>\n",
       "      <th>9</th>\n",
       "      <td>1</td>\n",
       "      <td>video</td>\n",
       "      <td>114.086384</td>\n",
       "      <td>110220</td>\n",
       "    </tr>\n",
       "  </tbody>\n",
       "</table>\n",
       "</div>"
      ],
      "text/plain": [
       "   isAdult     titleType  avg_runtime   count\n",
       "0        1                  78.570369  376574\n",
       "1        1         movie    78.634230    9177\n",
       "2        1         short    15.153396    2590\n",
       "3        1     tvEpisode    28.420098  250626\n",
       "4        1  tvMiniSeries    48.175141     373\n",
       "5        1       tvMovie    87.085714      91\n",
       "6        1      tvSeries    39.947791    2885\n",
       "7        1       tvShort    18.333333       3\n",
       "8        1     tvSpecial    86.166667      26\n",
       "9        1         video   114.086384  110220"
      ]
     },
     "execution_count": 69,
     "metadata": {},
     "output_type": "execute_result"
    }
   ],
   "source": [
    "execute_query(\n",
    "    client=client_2,\n",
    "    query=\"\"\"\n",
    "            SELECT\n",
    "                isAdult,\n",
    "                titleType,\n",
    "                AVG(runtimeMinutes) AS avg_runtime,\n",
    "                COUNT() AS count\n",
    "            FROM imdb.title_basics\n",
    "            GROUP BY CUBE(isAdult, titleType)\n",
    "            HAVING isAdult = 1\n",
    "            ORDER BY isAdult, titleType\n",
    "          \"\"\"\n",
    ")"
   ]
  },
  {
   "cell_type": "markdown",
   "metadata": {},
   "source": [
    "FORMAT"
   ]
  },
  {
   "cell_type": "markdown",
   "metadata": {},
   "source": [
    "![JSONF](./photo/jsonf.png)"
   ]
  },
  {
   "cell_type": "markdown",
   "metadata": {},
   "source": [
    "![VERTICALF](./photo/verticalf.png)"
   ]
  }
 ],
 "metadata": {
  "kernelspec": {
   "display_name": "lightfm_env",
   "language": "python",
   "name": "python3"
  },
  "language_info": {
   "codemirror_mode": {
    "name": "ipython",
    "version": 3
   },
   "file_extension": ".py",
   "mimetype": "text/x-python",
   "name": "python",
   "nbconvert_exporter": "python",
   "pygments_lexer": "ipython3",
   "version": "3.10.16"
  }
 },
 "nbformat": 4,
 "nbformat_minor": 2
}
